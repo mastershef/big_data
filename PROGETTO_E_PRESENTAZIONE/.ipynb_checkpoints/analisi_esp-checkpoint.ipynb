{
 "cells": [
  {
   "cell_type": "code",
   "execution_count": 3,
   "metadata": {},
   "outputs": [
    {
     "name": "stdout",
     "output_type": "stream",
     "text": [
      "[nltk_data] Downloading package stopwords to\n",
      "[nltk_data]     C:\\Users\\astefani\\AppData\\Roaming\\nltk_data...\n",
      "[nltk_data]   Unzipping corpora\\stopwords.zip.\n"
     ]
    }
   ],
   "source": [
    "from AC import preproc\n",
    "from AC import get_news\n",
    "import inspect\n",
    "import nltk\n",
    "nltk.download(\"stopwords\")\n",
    "\n",
    "%load_ext autoreload\n",
    "%autoreload 2"
   ]
  },
  {
   "cell_type": "code",
   "execution_count": 5,
   "metadata": {},
   "outputs": [
    {
     "data": {
      "text/plain": [
       "'\"Buon compleanno Italia!\". C\\'e\\' anche l\\'immagine di una torta decorata con il tricolore e le candeline nella presentazione di Vinton Cerf, detto Vint e noto come il \\'padre di Internet\\', tra quei pionieri che il 30 aprile 1986 fece la storia collegando l\\'Italia a Internet. \"L\\'esplorazione italiana era in corso allo stesso tempo di quella americana\", racconta Cerf all\\'ANSA spiegando cosi\\' che quell\\'episodio dimostra e conferma come \"queste idee e queste tecnologie succedono quando e\\' possibile che accadano\".\\nE\\' l\\'\\'approccio Cerf\\', capace di tracciare il percorso della tecnologia per quello che in sostanza e\\': un elemento dell\\'evoluzione dell\\'uomo. E ha fatto anche questo nel suo stile brillante e accattivante, festeggiando l\\'Italian Internet Day all\\'ambasciata italiana a Washington, in una anteprima americana d\\'eccezione che precede le celebrazioni in Italia tra venerdi\\' e sabato volute dal presidente del Consiglio Matteo Renzi per ricordare il giorno in cui il segnale parti\\' dal Centro universitario per il calcolo elettronico del Cnr di Pisa (Cnuce) e arrivo\\' alla stazione di Roaring Creek in Pennsylvania.\\n\"Bob Khan ed io lavoravamo con i colleghi italiani gia\\' dal 1980, 1981. E al Cnuce a Pisa erano gia\\' attivi dall\\'inizio degli anni \\'70, allo stesso tempo in cui lo eravamo anche noi, parallelamente\", spiega ancora Cerf che descrive quel 30 aprile come il giorno dell\\'\"allineamento\". Sul futuro poi e\\' piu\\' ottimista che mai: \"La prossima frontiera e\\' l\\'\\'Internet delle cose\\'\". Ovvero si pensi a tutti o la grandissima parte degli oggetti di uso quotidiano che \"improvvisamente sono pieni di software e possibilita\\' di comunicazione\". Uno spartiacque, secondo Cerf, allo stesso livello della rivoluzione scaturita dalla diffusione dello smartphone nel 2007. Anche in questo caso un \\'incontro\\' \"di tecnologie che si rafforzano a vicenda\". Ma il vero \\'salto\\' per Cerf lo si fa andando nello spazio: \"e nello spazio ci siamo gia\\'\".\\n\"Un uomo rinascimentale, l\\'esatto contrario di una lettura riduttiva che uno potrebbe dare della tecnologia e della innovazione\", nota di Cerf l\\'ambasciatore d\\'Italia Armando Varricchio parlando con l\\'ANSA e proprio su questa traccia ricorda che trent\\'anni dopo quel collegamento \"l\\'Italia tiene fede alla sua missione, di un grande Paese che e\\' sempre stato amato, se riesce ad innovare e guardare al futuro. E\\' questa la sfida che noi abbiamo: tenere insieme cio\\' che ci rende unici nel mondo, e quindi la passione, la storia, la cultura, con la capacita\\' di innovare\".\\nUna sfida che riguarda anche la diplomazia \"uno strumento, un arte molti direbbero, antica. Che pero\\' deve tenere il passo con i tempi\", osserva ancora Varricchio che da Washington ha un punto di osservazione particolarmente attento a questi temi, \"come cambia la diplomazia nell\\'era digitale? Il flusso di informazione e\\' continuo, bisogna raffinare l\\'informazione e capirne il significato. E\\' altrettanto vero pero\\' che Internet come tutte le grandi innovazioni racchiude in se\\' una opportunita\\' e anche una sfida\". Sottolinea cosi\\' due eventi legati in qualche modo entrambi a Internet: \"Nell\\'86 Chernobyl. I bambini che sfilano il primo maggio a Kiev non sanno che cinque giorni prima c\\'era stata la grande esplosione al reattore. Sono quelli che porteranno per tutta la vita i segni delle radiazioni. Tutto questo oggi non sarebbe possibile, perche\\' grazie all\\'informazione quei bambini non sarebbero stati quel giorno sulle strade di Kiev. Ma e\\' anche vero che Internet e\\' lo strumento piu\\' utilizzato da coloro che radicalizzano in rete i nuovi adepti del terrorismo estremista. Quindi si dimostra ancora una volta come al centro di tutto ci sia l\\'uomo e quanto sia importante che chi si occupa di queste tematiche sia in grado di valutarne l\\'effetto\".\\nA Washington per l\\'occasione e\\' volato anche Riccardo Luna, \\'digital champion\\' del governo italiano: \"L\\'internet day venerdi\\' in Italia e\\' un grande avvenimento culturale, - dice all\\'ANSA - il Paese che si rende conto di una cosa fondamentale: siamo stati i quarti al mondo a collegarci a Internet, oggi siamo i quartultimi in Europa. Ti fa capire che in questi trent\\'anni non abbiamo corso, anzi ci siamo fermati. Cosi\\' la nuova sfida e\\' far partire finalmente il bando per la banda ultralarga, una cosa di cui parliamo da dieci anni e la gara parte venerdi\\', cio\\' vuol dire che entro il 2020 (RPT 2020) tutti gli italiani hanno internet ultraveloce\".'"
      ]
     },
     "metadata": {},
     "output_type": "display_data"
    },
    {
     "name": "stderr",
     "output_type": "stream",
     "text": [
      "100%|██████████| 2400/2400 [00:17<00:00, 140.11it/s]\n"
     ]
    },
    {
     "data": {
      "text/plain": [
       "'buon compleann ital immagin tort decor tricolor candelin present vinton cerf dett vint not padr internet que pionier april stor colleg ital internet esplor italian cors stess temp american raccont cerf ansa spieg cos quell episod dimostr conferm ide tecnolog succed quand possibil accad approcc cerf capac tracc percors tecnolog sostanz element evolu uom fatt stil brillant accattiv festegg italian internet day ambasc italian washington anteprim american d eccezion preced celebr ital venerd sab vol president consigl matte renz ricord giorn segnal part centr universitar calcol elettron cnr pis cnuc arriv stazion roaring creek pennsylvan bob khan lavor colleg italian gia cnuc pis gia attiv iniz anni stess temp parallel spieg ancor cerf descriv quel april giorn allin futur poi piu ottim mai prossim frontier internet cos ovver pens grandissim part oggett uso quotid improvvis pien softw possibil comun spartiacqu second cerf stess livell rivolu scatur diffusion smartphon cas incontr tecnolog rafforz vic ver salt cerf fa andand spaz spaz gia uom rinascimental esatt contrar lettur ridutt potrebb dar tecnolog innov not cerf ambasc d ital armand varricc parl ansa propr tracc ricord trent anni dop quel colleg ital tien fed mission grand paes sempr stat amat riesc innov guard futur sfid ten insiem cio rend unic mond quind passion stor cultur capac innov sfid riguard diplomaz strument arte molt direbber antic per dev ten pass temp osserv ancor varricc washington punt osserv particolar attent tem camb diplomaz digital fluss inform continu bisogn raffin inform cap signific altrettant ver per internet tutt grand innov racchiud opportun sfid sottoline cos due event leg qualc mod entramb internet chernobyl bambin sfil prim magg kiev sann cinqu giorn prim stat grand esplosion reattor port tutt vit segn radiazion oggi possibil perc graz inform que bambin stat quel giorn strad kiev ver internet strument piu utilizz color radicalizz ret nuov adept terror estrem quind dimostr ancor volt centr uom import occup temat grad valut effett washington occasion vol riccard lun digital champion govern ital internet day venerd ital grand avven cultural dic ansa paes rend cont cos fondamental stat quart mond colleg internet oggi quartultim europ fa cap trent anni cors anzi ferm cos nuov sfid far part final band band ultralarg cos parl diec anni gar part venerd cio vuol dir entro rpt italian internet ultraveloc'"
      ]
     },
     "metadata": {},
     "output_type": "display_data"
    }
   ],
   "source": [
    "economia = get_news(\"../articoli_economia/\")\n",
    "cultura = get_news(\"../articoli_cultura/\")\n",
    "tech = get_news(\"../articoli_tech/\")\n",
    "politica = get_news(\"../articoli_politica/\")\n",
    "sport = get_news(\"../articoli_sport/\")\n",
    "cronaca = get_news(\"../articoli_cronaca/\")\n",
    "\n",
    "for articolo in economia:\n",
    "    articolo['categoria'] = \"Economia\"\n",
    "for articolo in cultura:\n",
    "    articolo['categoria'] = \"Cultura\"\n",
    "for articolo in tech:\n",
    "    articolo['categoria'] = \"Tech\"\n",
    "for articolo in politica:\n",
    "    articolo['categoria'] = \"Politica\"\n",
    "for articolo in sport:\n",
    "    articolo['categoria'] = \"Sport\"\n",
    "for articolo in cronaca:\n",
    "    articolo['categoria'] = \"Cronaca\"\n",
    "arts = tech + politica + cultura + economia + sport + cronaca\n",
    "display(arts[123][\"testo\"])\n",
    "dati_preprocessati =  preproc(arts)\n",
    "display(\" \".join(dati_preprocessati[123][\"testo\"]))"
   ]
  },
  {
   "cell_type": "code",
   "execution_count": 54,
   "metadata": {},
   "outputs": [],
   "source": [
    "from sklearn.feature_extraction.text import CountVectorizer,TfidfVectorizer\n",
    "from sklearn.decomposition import LatentDirichletAllocation\n",
    "from sklearn.model_selection import train_test_split\n",
    "from sklearn import metrics\n",
    "from sklearn.dummy import DummyClassifier \n",
    "from sklearn.tree import DecisionTreeClassifier\n",
    "from AC import distribuzione_frequenze, visualizza_topics\n",
    "import matplotlib.pyplot as plt\n",
    "import pandas as pd"
   ]
  },
  {
   "cell_type": "code",
   "execution_count": 7,
   "metadata": {},
   "outputs": [
    {
     "name": "stderr",
     "output_type": "stream",
     "text": [
      "C:\\Python\\Anaconda3\\lib\\site-packages\\sklearn\\model_selection\\_split.py:2026: FutureWarning: From version 0.21, test_size will always complement train_size unless both are specified.\n",
      "  FutureWarning)\n"
     ]
    }
   ],
   "source": [
    "seed = 0\n",
    "train_documents,test_documents = train_test_split(dati_preprocessati,random_state=seed,train_size=0.5)\n",
    "test_documents, val_documents = train_test_split(test_documents,random_state=seed,train_size=0.5)"
   ]
  },
  {
   "cell_type": "code",
   "execution_count": 8,
   "metadata": {},
   "outputs": [],
   "source": [
    "docs_texts = [' '.join([word for word in x['testo']] + x['tags'] + x['sottotitolo'] + x['titolo_articolo']) for x in dati_preprocessati]\n",
    "train_texts = [' '.join([word for word in x['testo']] + x['sottotitolo'] + x['titolo_articolo']) for x in train_documents]\n",
    "test_texts = [' '.join([word for word in x['testo']] + x['sottotitolo'] + x['titolo_articolo']) for x in test_documents]\n",
    "val_texts = [' '.join([word for word in x['testo']] + x['sottotitolo'] + x['titolo_articolo']) for x in val_documents]\n",
    "\n",
    "docs_cats = [x[\"categoria\"] for x in dati_preprocessati]\n",
    "train_cats = [x[\"categoria\"] for x in train_documents]\n",
    "test_cats = [x[\"categoria\"] for x in test_documents]\n",
    "val_cats = [x[\"categoria\"] for x in val_documents]#  magari aggiungere anche un esempio \"significativo\" di come erano i dati prima e dopo il preprocessamento"
   ]
  },
  {
   "cell_type": "code",
   "execution_count": 2,
   "metadata": {},
   "outputs": [],
   "source": [
    "#fig,ax=plt.subplots(figsize=(20,10))\n",
    "#ax.axvline(x=3.5,linewidth = 1)\n",
    "#ax.axvline(x=135.5,linewidth = 1)\n",
    "#distribuzione_frequenze(train_texts,\"train\",ngrammi=(1,3),min_df=1,max_df=0.5)"
   ]
  },
  {
   "cell_type": "code",
   "execution_count": 27,
   "metadata": {},
   "outputs": [
    {
     "data": {
      "text/plain": [
       "9"
      ]
     },
     "execution_count": 27,
     "metadata": {},
     "output_type": "execute_result"
    },
    {
     "data": {
      "image/png": "[encoded data removed]",
      "text/plain": [
       "<Figure size 1296x720 with 1 Axes>"
      ]
     },
     "metadata": {},
     "output_type": "display_data"
    }
   ],
   "source": [
    "distribuzione_frequenze(train_texts,\"train\",ngrammi=(1,3),min_df=9,max_df=0.2)"
   ]
  },
  {
   "cell_type": "code",
   "execution_count": 11,
   "metadata": {},
   "outputs": [],
   "source": [
    "#Magari inserire il tSNE"
   ]
  },
  {
   "cell_type": "code",
   "execution_count": 14,
   "metadata": {},
   "outputs": [],
   "source": [
    "tf = CountVectorizer(max_features=1000000, lowercase=True, min_df=9,max_df=0.5).fit(train_texts)\n",
    "tf_terms = tf.get_feature_names()\n",
    "tf_train = tf.transform(train_texts)\n",
    "ldax = LatentDirichletAllocation(max_iter=50, learning_method='online', random_state=0,n_components=12).fit(tf_train.toarray())\n",
    "ldax_train = ldax.transform(tf_train.toarray())"
   ]
  },
  {
   "cell_type": "code",
   "execution_count": 55,
   "metadata": {},
   "outputs": [
    {
     "data": {
      "text/html": [
       "<div>\n",
       "<style scoped>\n",
       "    .dataframe tbody tr th:only-of-type {\n",
       "        vertical-align: middle;\n",
       "    }\n",
       "\n",
       "    .dataframe tbody tr th {\n",
       "        vertical-align: top;\n",
       "    }\n",
       "\n",
       "    .dataframe thead th {\n",
       "        text-align: right;\n",
       "    }\n",
       "</style>\n",
       "<table border=\"1\" class=\"dataframe\">\n",
       "  <thead>\n",
       "    <tr style=\"text-align: right;\">\n",
       "      <th></th>\n",
       "      <th>Termini piu' probabili per topic</th>\n",
       "    </tr>\n",
       "    <tr>\n",
       "      <th>Topic</th>\n",
       "      <th></th>\n",
       "    </tr>\n",
       "  </thead>\n",
       "  <tbody>\n",
       "    <tr>\n",
       "      <th>0</th>\n",
       "      <td>nuov app dat prim ue milion privacy garant applic incontr controll aggiorn internet svilupp pubblic</td>\n",
       "    </tr>\n",
       "    <tr>\n",
       "      <th>1</th>\n",
       "      <td>stat mag arrest due anni eur dop uom giorn oggi accus lavor person alcun carabinier</td>\n",
       "    </tr>\n",
       "    <tr>\n",
       "      <th>2</th>\n",
       "      <td>lingu prem and of nuov rom giugn anni edizion mag stat album campagn to</td>\n",
       "    </tr>\n",
       "    <tr>\n",
       "      <th>3</th>\n",
       "      <td>sol anni prim part vit cos film raccont stat dop anno arriv molt poi giorn</td>\n",
       "    </tr>\n",
       "    <tr>\n",
       "      <th>4</th>\n",
       "      <td>artist oper teatr mostr collezion leonard stor berluscon fin part marm nuov rom fogl anni</td>\n",
       "    </tr>\n",
       "    <tr>\n",
       "      <th>5</th>\n",
       "      <td>ministr salvin govern mai stat leg matte legg dett m5s camer vot arriv intern ital</td>\n",
       "    </tr>\n",
       "    <tr>\n",
       "      <th>6</th>\n",
       "      <td>ital stat rom italian europe nat nazional paes fra mag finanziar banc cresc rapport fin</td>\n",
       "    </tr>\n",
       "    <tr>\n",
       "      <th>7</th>\n",
       "      <td>punt cal bors mil dop dollar mag eur parig usa ced titol spread daz messic</td>\n",
       "    </tr>\n",
       "    <tr>\n",
       "      <th>8</th>\n",
       "      <td>migrant genov port mag nav maestr rom cagliar arriv citt muse storic inaugur lib bord</td>\n",
       "    </tr>\n",
       "    <tr>\n",
       "      <th>9</th>\n",
       "      <td>ital stat gir prim dop campion poi ser part inter magl due president tecnic ros</td>\n",
       "    </tr>\n",
       "    <tr>\n",
       "      <th>10</th>\n",
       "      <td>president palamar consigl procur rom econom cont govern fatt dett magistr mai manovr paes csm</td>\n",
       "    </tr>\n",
       "    <tr>\n",
       "      <th>11</th>\n",
       "      <td>smartphon apple azi nuov huawe milion amazon miliard dollar mond disposit cines tecnolog innov iphon</td>\n",
       "    </tr>\n",
       "  </tbody>\n",
       "</table>\n",
       "</div>"
      ],
      "text/plain": [
       "                                                                           Termini piu' probabili per topic\n",
       "Topic                                                                                                      \n",
       "0      nuov app dat prim ue milion privacy garant applic incontr controll aggiorn internet svilupp pubblic \n",
       "1      stat mag arrest due anni eur dop uom giorn oggi accus lavor person alcun carabinier                 \n",
       "2      lingu prem and of nuov rom giugn anni edizion mag stat album campagn to                             \n",
       "3      sol anni prim part vit cos film raccont stat dop anno arriv molt poi giorn                          \n",
       "4      artist oper teatr mostr collezion leonard stor berluscon fin part marm nuov rom fogl anni           \n",
       "5      ministr salvin govern mai stat leg matte legg dett m5s camer vot arriv intern ital                  \n",
       "6      ital stat rom italian europe nat nazional paes fra mag finanziar banc cresc rapport fin             \n",
       "7      punt cal bors mil dop dollar mag eur parig usa ced titol spread daz messic                          \n",
       "8      migrant genov port mag nav maestr rom cagliar arriv citt muse storic inaugur lib bord               \n",
       "9      ital stat gir prim dop campion poi ser part inter magl due president tecnic ros                     \n",
       "10     president palamar consigl procur rom econom cont govern fatt dett magistr mai manovr paes csm       \n",
       "11     smartphon apple azi nuov huawe milion amazon miliard dollar mond disposit cines tecnolog innov iphon"
      ]
     },
     "execution_count": 55,
     "metadata": {},
     "output_type": "execute_result"
    }
   ],
   "source": [
    "n = 15\n",
    "pd.set_option('display.max_colwidth', -1)\n",
    "visualisssa_topics(ldax, tf_terms, n).head(12)"
   ]
  },
  {
   "cell_type": "code",
   "execution_count": null,
   "metadata": {},
   "outputs": [],
   "source": []
  }
 ],
 "metadata": {
  "kernelspec": {
   "display_name": "Python 3",
   "language": "python",
   "name": "python3"
  },
  "language_info": {
   "codemirror_mode": {
    "name": "ipython",
    "version": 3
   },
   "file_extension": ".py",
   "mimetype": "text/x-python",
   "name": "python",
   "nbconvert_exporter": "python",
   "pygments_lexer": "ipython3",
   "version": "3.7.3"
  }
 },
 "nbformat": 4,
 "nbformat_minor": 2
}
