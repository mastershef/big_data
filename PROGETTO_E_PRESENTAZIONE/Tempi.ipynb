{
 "cells": [
  {
   "cell_type": "code",
   "execution_count": 16,
   "metadata": {},
   "outputs": [
    {
     "name": "stdout",
     "output_type": "stream",
     "text": [
      "[nltk_data] Downloading package stopwords to\n",
      "[nltk_data]     C:\\Users\\astefani\\AppData\\Roaming\\nltk_data...\n",
      "[nltk_data]   Package stopwords is already up-to-date!\n",
      "The autoreload extension is already loaded. To reload it, use:\n",
      "  %reload_ext autoreload\n"
     ]
    }
   ],
   "source": [
    "from AC import preproc\n",
    "from AC import get_news\n",
    "import inspect\n",
    "import nltk\n",
    "nltk.download(\"stopwords\")\n",
    "\n",
    "%load_ext autoreload\n",
    "%autoreload 2"
   ]
  },
  {
   "cell_type": "code",
   "execution_count": 17,
   "metadata": {},
   "outputs": [
    {
     "name": "stderr",
     "output_type": "stream",
     "text": [
      "100%|██████████| 2400/2400 [00:16<00:00, 178.38it/s]\n"
     ]
    }
   ],
   "source": [
    "economia = get_news(\"../articoli_economia/\")\n",
    "cultura = get_news(\"../articoli_cultura/\")\n",
    "tech = get_news(\"../articoli_tech/\")\n",
    "politica = get_news(\"../articoli_politica/\")\n",
    "sport = get_news(\"../articoli_sport/\")\n",
    "cronaca = get_news(\"../articoli_cronaca/\")\n",
    "\n",
    "for articolo in economia:\n",
    "    articolo['categoria'] = \"Economia\"\n",
    "for articolo in cultura:\n",
    "    articolo['categoria'] = \"Cultura\"\n",
    "for articolo in tech:\n",
    "    articolo['categoria'] = \"Tech\"\n",
    "for articolo in politica:\n",
    "    articolo['categoria'] = \"Politica\"\n",
    "for articolo in sport:\n",
    "    articolo['categoria'] = \"Sport\"\n",
    "for articolo in cronaca:\n",
    "    articolo['categoria'] = \"Cronaca\"\n",
    "dati_preprocessati =  preproc(tech + politica + cultura + economia + sport + cronaca)"
   ]
  },
  {
   "cell_type": "code",
   "execution_count": 18,
   "metadata": {},
   "outputs": [],
   "source": [
    "from sklearn.feature_extraction.text import CountVectorizer\n",
    "from sklearn.decomposition import LatentDirichletAllocation\n",
    "from sklearn.model_selection import train_test_split\n",
    "from sklearn.tree import DecisionTreeClassifier\n",
    "from sklearn.model_selection import ParameterGrid\n",
    "\n",
    "import numpy as np\n",
    "import pandas as pd\n",
    "import math\n",
    "\n",
    "import tqdm\n",
    "import matplotlib.pyplot as plt\n",
    "from sklearn.pipeline import Pipeline\n",
    "from sklearn import linear_model,metrics"
   ]
  },
  {
   "cell_type": "code",
   "execution_count": 19,
   "metadata": {},
   "outputs": [
    {
     "name": "stderr",
     "output_type": "stream",
     "text": [
      "C:\\Python\\Anaconda3\\lib\\site-packages\\sklearn\\model_selection\\_split.py:2026: FutureWarning: From version 0.21, test_size will always complement train_size unless both are specified.\n",
      "  FutureWarning)\n"
     ]
    }
   ],
   "source": [
    "seed = 0\n",
    "train_documents,test_documents = train_test_split(dati_preprocessati,random_state=seed,train_size=0.5)\n",
    "test_documents, val_documents = train_test_split(test_documents,random_state=seed,train_size=0.5)"
   ]
  },
  {
   "cell_type": "code",
   "execution_count": 20,
   "metadata": {},
   "outputs": [],
   "source": [
    "docs_texts = [' '.join([word for word in x['testo']] + x['tags'] + x['sottotitolo'] + x['titolo_articolo']) for x in dati_preprocessati]\n",
    "train_texts = [' '.join([word for word in x['testo']] + x['sottotitolo'] + x['titolo_articolo']) for x in train_documents]\n",
    "test_texts = [' '.join([word for word in x['testo']] + x['sottotitolo'] + x['titolo_articolo']) for x in test_documents]\n",
    "val_texts = [' '.join([word for word in x['testo']] + x['sottotitolo'] + x['titolo_articolo']) for x in val_documents]\n",
    "\n",
    "docs_cats = [x[\"categoria\"] for x in dati_preprocessati]\n",
    "train_cats = [x[\"categoria\"] for x in train_documents]\n",
    "test_cats = [x[\"categoria\"] for x in test_documents]\n",
    "val_cats = [x[\"categoria\"] for x in val_documents]"
   ]
  },
  {
   "cell_type": "markdown",
   "metadata": {},
   "source": [
    "# Tempi con LDA-12"
   ]
  },
  {
   "cell_type": "code",
   "execution_count": 21,
   "metadata": {},
   "outputs": [
    {
     "name": "stdout",
     "output_type": "stream",
     "text": [
      "17.22 s ± 150 ms per loop (mean ± std. dev. of 3 runs, 1 loop each)\n"
     ]
    }
   ],
   "source": [
    "params_tdm = {\n",
    "    'ngram_range': (1, 3),\n",
    "    'min_df': 9,\n",
    "    'max_df': 0.5\n",
    "}\n",
    "\n",
    "params_lda = {\n",
    "    'n_components':12,\n",
    "    'learning_decay':0.7    \n",
    "}\n",
    "\n",
    "def foo(params_lda, params_tdm):\n",
    "    tf = CountVectorizer(max_features=1000000, lowercase=True, **params_tdm).fit(train_texts)\n",
    "    tf_train = tf.transform(train_texts)\n",
    "    ldax = LatentDirichletAllocation(max_iter=50, learning_method='online', random_state=0, **params_lda).fit(tf_train.toarray())\n",
    "    ldax_train = ldax.transform(tf_train.toarray())\n",
    "    tf_test = tf.transform(test_texts)\n",
    "    ldax_test = ldax.transform(tf_test.toarray())\n",
    "\n",
    "import timeit\n",
    "\n",
    "REPEAT = 3\n",
    "NUMBER = 1\n",
    "tempi = timeit.repeat(\"foo(params_lda, params_tdm)\",setup=\"from __main__ import foo,params_lda, params_tdm\",repeat=REPEAT, number=NUMBER)\n",
    "print(\"{:.2f} s ± {:.0f} ms per loop (mean ± std. dev. of {} runs, {} loop each)\".format(\n",
    "    np.mean(tempi), 1000 * np.std(tempi), REPEAT, NUMBER))"
   ]
  },
  {
   "cell_type": "code",
   "execution_count": 22,
   "metadata": {},
   "outputs": [
    {
     "name": "stdout",
     "output_type": "stream",
     "text": [
      "0.01 s ± 0 ms per loop (mean ± std. dev. of 3 runs, 1 loop each)\n"
     ]
    }
   ],
   "source": [
    "tf = CountVectorizer(max_features=1000000, lowercase=True, **params_tdm).fit(train_texts)\n",
    "tf_train = tf.transform(train_texts)\n",
    "ldax = LatentDirichletAllocation(max_iter=50, learning_method='online', random_state=0, **params_lda).fit(tf_train.toarray())\n",
    "ldax_train = ldax.transform(tf_train.toarray())\n",
    "tf_test = tf.transform(test_texts)\n",
    "ldax_test = ldax.transform(tf_test.toarray())\n",
    "\n",
    "params = {\n",
    "    'max_depth':17,\n",
    "    'min_samples_leaf':1 \n",
    "}\n",
    "\n",
    "def foo(params):\n",
    "    ldac = DecisionTreeClassifier(random_state=0, **params).fit(ldax_train, train_cats)\n",
    "    y_pred = ldac.predict(ldax_test)\n",
    "\n",
    "REPEAT = 3\n",
    "NUMBER = 1\n",
    "tempi = timeit.repeat(\"foo(params)\",setup=\"from __main__ import foo, params\",repeat=REPEAT, number=NUMBER)\n",
    "print(\"{:.2f} s ± {:.0f} ms per loop (mean ± std. dev. of {} runs, {} loop each)\".format(\n",
    "    np.mean(tempi), 1000 * np.std(tempi), REPEAT, NUMBER))"
   ]
  },
  {
   "cell_type": "markdown",
   "metadata": {},
   "source": [
    "# Tempi con LDA-48"
   ]
  },
  {
   "cell_type": "code",
   "execution_count": 23,
   "metadata": {},
   "outputs": [
    {
     "name": "stdout",
     "output_type": "stream",
     "text": [
      "22.16 s ± 428 ms per loop (mean ± std. dev. of 3 runs, 1 loop each)\n"
     ]
    }
   ],
   "source": [
    "params_tdm = {\n",
    "    'ngram_range': (1, 3),\n",
    "    'min_df': 9,\n",
    "    'max_df': 0.5\n",
    "}\n",
    "\n",
    "params_lda = {\n",
    "    'n_components':48,\n",
    "    'learning_decay':0.7    \n",
    "}\n",
    "\n",
    "def foo(params_lda, params_tdm):\n",
    "    tf = CountVectorizer(max_features=1000000, lowercase=True, **params_tdm).fit(train_texts)\n",
    "    tf_train = tf.transform(train_texts)\n",
    "    ldax = LatentDirichletAllocation(max_iter=50, learning_method='online', random_state=0, **params_lda).fit(tf_train.toarray())\n",
    "    ldax_train = ldax.transform(tf_train.toarray())\n",
    "    tf_test = tf.transform(test_texts)\n",
    "    ldax_test = ldax.transform(tf_test.toarray())\n",
    "\n",
    "import timeit\n",
    "\n",
    "REPEAT = 3\n",
    "NUMBER = 1\n",
    "tempi = timeit.repeat(\"foo(params_lda, params_tdm)\",setup=\"from __main__ import foo,params_lda, params_tdm\",repeat=REPEAT, number=NUMBER)\n",
    "print(\"{:.2f} s ± {:.0f} ms per loop (mean ± std. dev. of {} runs, {} loop each)\".format(\n",
    "    np.mean(tempi), 1000 * np.std(tempi), REPEAT, NUMBER))"
   ]
  },
  {
   "cell_type": "code",
   "execution_count": 24,
   "metadata": {},
   "outputs": [
    {
     "name": "stdout",
     "output_type": "stream",
     "text": [
      "0.02 s ± 0 ms per loop (mean ± std. dev. of 3 runs, 1 loop each)\n"
     ]
    }
   ],
   "source": [
    "tf = CountVectorizer(max_features=1000000, lowercase=True, **params_tdm).fit(train_texts)\n",
    "tf_train = tf.transform(train_texts)\n",
    "ldax = LatentDirichletAllocation(max_iter=50, learning_method='online', random_state=0, **params_lda).fit(tf_train.toarray())\n",
    "ldax_train = ldax.transform(tf_train.toarray())\n",
    "tf_test = tf.transform(test_texts)\n",
    "ldax_test = ldax.transform(tf_test.toarray())\n",
    "\n",
    "params = {\n",
    "    'max_depth':19,\n",
    "    'min_samples_leaf':1 \n",
    "}\n",
    "\n",
    "def foo(params):\n",
    "    ldac = DecisionTreeClassifier(random_state=0, **params).fit(ldax_train, train_cats)\n",
    "    y_pred = ldac.predict(ldax_test)\n",
    "\n",
    "REPEAT = 3\n",
    "NUMBER = 1\n",
    "tempi = timeit.repeat(\"foo(params)\",setup=\"from __main__ import foo,params\",repeat=REPEAT, number=NUMBER)\n",
    "print(\"{:.2f} s ± {:.0f} ms per loop (mean ± std. dev. of {} runs, {} loop each)\".format(\n",
    "    np.mean(tempi), 1000 * np.std(tempi), REPEAT, NUMBER))"
   ]
  },
  {
   "cell_type": "markdown",
   "metadata": {},
   "source": [
    "# Tempi senza LDA"
   ]
  },
  {
   "cell_type": "code",
   "execution_count": 25,
   "metadata": {},
   "outputs": [
    {
     "name": "stdout",
     "output_type": "stream",
     "text": [
      "1.14 s ± 60 ms per loop (mean ± std. dev. of 10 runs, 1 loop each)\n"
     ]
    }
   ],
   "source": [
    "tfc = Pipeline([\n",
    "    (\"classifier\",DecisionTreeClassifier(random_state=0))\n",
    "])\n",
    "\n",
    "params_tdm = {\n",
    "    'ngram_range': (1, 3),\n",
    "    'min_df': 10,\n",
    "    'max_df': 0.5\n",
    "}\n",
    "\n",
    "def foo(params_tdm):\n",
    "    tf = CountVectorizer(max_features=1000000, lowercase=True, **params_tdm).fit(train_texts)\n",
    "    tf_train = tf.transform(train_texts)\n",
    "    tf_test = tf.transform(test_texts)\n",
    "    \n",
    "import timeit\n",
    "\n",
    "REPEAT = 10\n",
    "NUMBER = 1\n",
    "tempi = timeit.repeat(\"foo(params_tdm)\",setup=\"from __main__ import foo, params_tdm\",repeat=REPEAT, number=NUMBER)\n",
    "print(\"{:.2f} s ± {:.0f} ms per loop (mean ± std. dev. of {} runs, {} loop each)\".format(\n",
    "    np.mean(tempi), 1000 * np.std(tempi), REPEAT, NUMBER))"
   ]
  },
  {
   "cell_type": "code",
   "execution_count": 26,
   "metadata": {},
   "outputs": [
    {
     "name": "stdout",
     "output_type": "stream",
     "text": [
      "0.33 s ± 17 ms per loop (mean ± std. dev. of 3 runs, 1 loop each)\n"
     ]
    }
   ],
   "source": [
    "tf = CountVectorizer(max_features=1000000, lowercase=True, **params_tdm).fit(train_texts)\n",
    "tf_train = tf.transform(train_texts)\n",
    "tf_test = tf.transform(test_texts)\n",
    "\n",
    "params = {\n",
    "    'max_depth':29,\n",
    "    'min_samples_leaf':1 \n",
    "}\n",
    "\n",
    "def foo(params):\n",
    "    tfc = DecisionTreeClassifier(random_state=0, **params).fit(tf_train.toarray(), train_cats)\n",
    "    y_pred = tfc.predict(tf_test.toarray())\n",
    "\n",
    "REPEAT = 3\n",
    "NUMBER = 1\n",
    "tempi = timeit.repeat(\"foo(params)\",setup=\"from __main__ import foo, params\",repeat=REPEAT, number=NUMBER)\n",
    "print(\"{:.2f} s ± {:.0f} ms per loop (mean ± std. dev. of {} runs, {} loop each)\".format(\n",
    "    np.mean(tempi), 1000 * np.std(tempi), REPEAT, NUMBER))"
   ]
  },
  {
   "cell_type": "code",
   "execution_count": null,
   "metadata": {},
   "outputs": [],
   "source": []
  },
  {
   "cell_type": "code",
   "execution_count": null,
   "metadata": {},
   "outputs": [],
   "source": []
  },
  {
   "cell_type": "code",
   "execution_count": null,
   "metadata": {},
   "outputs": [],
   "source": []
  }
 ],
 "metadata": {
  "kernelspec": {
   "display_name": "Python 3",
   "language": "python",
   "name": "python3"
  },
  "language_info": {
   "codemirror_mode": {
    "name": "ipython",
    "version": 3
   },
   "file_extension": ".py",
   "mimetype": "text/x-python",
   "name": "python",
   "nbconvert_exporter": "python",
   "pygments_lexer": "ipython3",
   "version": "3.6.5"
  }
 },
 "nbformat": 4,
 "nbformat_minor": 2
}
