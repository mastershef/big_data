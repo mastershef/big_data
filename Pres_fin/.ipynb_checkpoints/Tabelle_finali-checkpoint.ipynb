{
 "cells": [
  {
   "cell_type": "code",
   "execution_count": 18,
   "metadata": {},
   "outputs": [
    {
     "name": "stdout",
     "output_type": "stream",
     "text": [
      "The autoreload extension is already loaded. To reload it, use:\n",
      "  %reload_ext autoreload\n"
     ]
    },
    {
     "name": "stderr",
     "output_type": "stream",
     "text": [
      "[nltk_data] Downloading package stopwords to\n",
      "[nltk_data]     C:\\Users\\Cristy\\AppData\\Roaming\\nltk_data...\n",
      "[nltk_data]   Package stopwords is already up-to-date!\n"
     ]
    }
   ],
   "source": [
    "from AC import preproc\n",
    "from AC import get_news\n",
    "import estrattore_dati\n",
    "import inspect\n",
    "import nltk\n",
    "nltk.download(\"stopwords\")\n",
    "\n",
    "%load_ext autoreload\n",
    "%autoreload 2"
   ]
  },
  {
   "cell_type": "code",
   "execution_count": 4,
   "metadata": {},
   "outputs": [
    {
     "name": "stderr",
     "output_type": "stream",
     "text": [
      "100%|██████████| 2400/2400 [00:39<00:00, 61.32it/s]\n"
     ]
    }
   ],
   "source": [
    "economia = get_news(\"../articoli_economia/\")\n",
    "cultura = get_news(\"../articoli_cultura/\")\n",
    "tech = get_news(\"../articoli_tech/\")\n",
    "politica = get_news(\"../articoli_politica/\")\n",
    "sport = get_news(\"../articoli_sport/\")\n",
    "cronaca = get_news(\"../articoli_cronaca/\")\n",
    "\n",
    "for articolo in economia:\n",
    "    articolo['categoria'] = \"Economia\"\n",
    "for articolo in cultura:\n",
    "    articolo['categoria'] = \"Cultura\"\n",
    "for articolo in tech:\n",
    "    articolo['categoria'] = \"Tech\"\n",
    "for articolo in politica:\n",
    "    articolo['categoria'] = \"Politica\"\n",
    "for articolo in sport:\n",
    "    articolo['categoria'] = \"Sport\"\n",
    "for articolo in cronaca:\n",
    "    articolo['categoria'] = \"Cronaca\"\n",
    "dati_preprocessati =  preproc(tech + politica + cultura + economia + sport + cronaca)"
   ]
  },
  {
   "cell_type": "code",
   "execution_count": 5,
   "metadata": {},
   "outputs": [],
   "source": [
    "from sklearn.feature_extraction.text import CountVectorizer\n",
    "from sklearn.decomposition import LatentDirichletAllocation\n",
    "from sklearn.tree import DecisionTreeClassifier\n",
    "from sklearn.dummy import DummyClassifier\n",
    "from sklearn.metrics import accuracy_score,confusion_matrix,classification_report\n",
    "from sklearn.model_selection import train_test_split\n",
    "from sklearn.pipeline import Pipeline\n",
    "from sklearn import metrics\n",
    "from sklearn.utils.multiclass import unique_labels\n",
    "\n",
    "import tqdm\n",
    "import matplotlib.pyplot as plt\n",
    "from itertools import product"
   ]
  },
  {
   "cell_type": "code",
   "execution_count": 20,
   "metadata": {},
   "outputs": [
    {
     "name": "stderr",
     "output_type": "stream",
     "text": [
      "C:\\Users\\Cristy\\Anaconda3\\lib\\site-packages\\sklearn\\model_selection\\_split.py:2179: FutureWarning: From version 0.21, test_size will always complement train_size unless both are specified.\n",
      "  FutureWarning)\n"
     ]
    }
   ],
   "source": [
    "seed = 0\n",
    "train_documents,test_documents = train_test_split(dati_preprocessati,random_state=seed,train_size=0.75)\n",
    "test_documents, val_documents = train_test_split(test_documents,random_state=seed,train_size=0.5)"
   ]
  },
  {
   "cell_type": "code",
   "execution_count": 21,
   "metadata": {},
   "outputs": [],
   "source": [
    "docs_texts = [' '.join([word for word in x['testo']] + x['tags'] + x['sottotitolo'] + x['titolo_articolo']) for x in dati_preprocessati]\n",
    "train_texts = [' '.join([word for word in x['testo']] + x['sottotitolo'] + x['titolo_articolo']) for x in train_documents]\n",
    "test_texts = [' '.join([word for word in x['testo']] + x['sottotitolo'] + x['titolo_articolo']) for x in test_documents]\n",
    "val_texts = [' '.join([word for word in x['testo']] + x['sottotitolo'] + x['titolo_articolo']) for x in val_documents]\n",
    "\n",
    "docs_cats = [x[\"categoria\"] for x in dati_preprocessati]\n",
    "train_cats = [x[\"categoria\"] for x in train_documents]\n",
    "test_cats = [x[\"categoria\"] for x in test_documents]\n",
    "val_cats = [x[\"categoria\"] for x in val_documents]"
   ]
  },
  {
   "cell_type": "code",
   "execution_count": null,
   "metadata": {},
   "outputs": [],
   "source": []
  },
  {
   "cell_type": "markdown",
   "metadata": {},
   "source": [
    "# Tabelle finali"
   ]
  },
  {
   "cell_type": "code",
   "execution_count": 8,
   "metadata": {},
   "outputs": [],
   "source": [
    "#tabella con accuratezza (fissato il trainig set, dire perche' fissata questa dimensione(50% o 75%)) di dummy, di LDA(forse 2 numero di componenti), senza LDA\n",
    "#tabella con altre misure di valutazione del modello con il modello migliore(LDA)\n",
    "#previsione con nuovi articoli"
   ]
  },
  {
   "cell_type": "code",
   "execution_count": 22,
   "metadata": {},
   "outputs": [
    {
     "name": "stdout",
     "output_type": "stream",
     "text": [
      "Accuratezza DummyClassifier(\"most_frequent\"): 15.0%\n"
     ]
    }
   ],
   "source": [
    "dc = DummyClassifier(\"most_frequent\")\n",
    "\n",
    "dc.fit(train_texts, train_cats)\n",
    "\n",
    "y_pred = dc.predict(test_texts)\n",
    "dc_acc = accuracy_score(test_cats, y_pred)\n",
    "\n",
    "print('Accuratezza DummyClassifier(\"most_frequent\"): {:.1f}%'.format(100 * dc_acc))"
   ]
  },
  {
   "cell_type": "code",
   "execution_count": 23,
   "metadata": {},
   "outputs": [
    {
     "data": {
      "text/plain": [
       "Pipeline(memory=None,\n",
       "     steps=[('count_mx', CountVectorizer(analyzer='word', binary=False, decode_error='strict',\n",
       "        dtype=<class 'numpy.int64'>, encoding='utf-8', input='content',\n",
       "        lowercase=True, max_df=0.5, max_features=1000000, min_df=9,\n",
       "        ngram_range=(1, 3), preprocessor=None, stop_words=None,\n",
       "      ...         min_weight_fraction_leaf=0.0, presort=False, random_state=0,\n",
       "            splitter='best'))])"
      ]
     },
     "execution_count": 23,
     "metadata": {},
     "output_type": "execute_result"
    }
   ],
   "source": [
    "ldac = Pipeline([\n",
    "    (\"count_mx\",CountVectorizer(max_features=1000000, lowercase=True)),\n",
    "    (\"lda\", LatentDirichletAllocation(max_iter=50, learning_method='online',random_state=0)),\n",
    "    (\"classifier\",DecisionTreeClassifier(random_state=0))\n",
    "])\n",
    "params = {\n",
    "    'lda__n_components': 12,\n",
    "    'lda__learning_decay': 0.7, \n",
    "    'count_mx__ngram_range': (1, 3), \n",
    "    'count_mx__min_df': 9, \n",
    "    'count_mx__max_df': 0.5, \n",
    "    'classifier__min_samples_leaf': 1, \n",
    "    'classifier__max_depth': 18\n",
    "}\n",
    "ldac.set_params(**params)"
   ]
  },
  {
   "cell_type": "code",
   "execution_count": null,
   "metadata": {},
   "outputs": [],
   "source": [
    "ldac2 = Pipeline([\n",
    "    (\"count_mx\",CountVectorizer(max_features=1000000, lowercase=True)),\n",
    "    (\"lda\", LatentDirichletAllocation(max_iter=50, learning_method='online',random_state=0)),\n",
    "    (\"classifier\",DecisionTreeClassifier(random_state=0))\n",
    "])\n",
    "params = {\n",
    "    'lda__n_components': 48,\n",
    "    'lda__learning_decay': 0.7, \n",
    "    'count_mx__ngram_range': (1, 3), \n",
    "    'count_mx__min_df': 9, \n",
    "    'count_mx__max_df': 0.5, \n",
    "    'classifier__min_samples_leaf': 1, \n",
    "    'classifier__max_depth': 23\n",
    "}\n",
    "ldac2.set_params(**params)"
   ]
  },
  {
   "cell_type": "code",
   "execution_count": null,
   "metadata": {},
   "outputs": [],
   "source": [
    "tfc = Pipeline([\n",
    "    (\"count_mx\",CountVectorizer(max_features=1000000, lowercase=True)),\n",
    "    (\"classifier\",DecisionTreeClassifier(random_state=0))\n",
    "]) \n",
    "params = { \n",
    "    'count_mx__ngram_range': (1, 3), \n",
    "    'count_mx__min_df': 9, \n",
    "    'count_mx__max_df': 0.5, \n",
    "    'classifier__min_samples_leaf': 1, \n",
    "    'classifier__max_depth':  34\n",
    "}\n",
    "tfc.set_params(**params)"
   ]
  },
  {
   "cell_type": "code",
   "execution_count": 24,
   "metadata": {},
   "outputs": [],
   "source": [
    "ldac.fit(train_texts, train_cats)\n",
    "pred_cats = ldac.predict(test_texts)\n",
    "ldac_acc = accuracy_score(test_cats, pred_cats)"
   ]
  },
  {
   "cell_type": "code",
   "execution_count": 25,
   "metadata": {},
   "outputs": [
    {
     "name": "stdout",
     "output_type": "stream",
     "text": [
      "Accuratezza LDA-12: 98.0%\n"
     ]
    }
   ],
   "source": [
    "print('Accuratezza LDA-12: {:.1f}%'.format(100 * ldac_acc))"
   ]
  },
  {
   "cell_type": "code",
   "execution_count": 26,
   "metadata": {},
   "outputs": [],
   "source": [
    "#costruire tabella con dc_acc, ldac_acc, tfc_acc (eventualmente fare due con lda)"
   ]
  },
  {
   "cell_type": "code",
   "execution_count": 14,
   "metadata": {},
   "outputs": [
    {
     "name": "stdout",
     "output_type": "stream",
     "text": [
      "0.9766666666666667\n"
     ]
    },
    {
     "data": {
      "image/png": "[encoded data removed]",
      "text/plain": [
       "<Figure size 432x288 with 2 Axes>"
      ]
     },
     "metadata": {
      "needs_background": "light"
     },
     "output_type": "display_data"
    }
   ],
   "source": [
    "classi = unique_labels(test_cats, pred_cats)\n",
    "plt.title(\"Matrice di confusione\")\n",
    "cm = confusion_matrix(test_cats, pred_cats)\n",
    "    \n",
    "plt.imshow(cm, interpolation='nearest', cmap=plt.cm.Blues)\n",
    "plt.colorbar(fraction=0.04, pad=0.1)#spazi occupati dalla barra a destra\n",
    "\n",
    "#labels \n",
    "tick_marks = range(len(classi))\n",
    "plt.xticks(tick_marks, classi, rotation=90)\n",
    "plt.yticks(tick_marks, classi)\n",
    "    \n",
    "plt.grid(None)\n",
    "  \n",
    "thresh = cm.max() / 2\n",
    "#colore dei numeri dentro i quadrati\n",
    "for i, j in product(range(cm.shape[0]), range(cm.shape[1])):\n",
    "    plt.text(j, i, format(cm[i, j], 'd'), horizontalalignment=\"center\", color=\"white\" if cm[i, j] > thresh else \"black\")\n",
    "    \n",
    "plt.ylabel(\"Classe osservata\")\n",
    "plt.xlabel(\"Classe prevista\")\n",
    "print(metrics.accuracy_score(pred_cats, test_cats)) \n"
   ]
  },
  {
   "cell_type": "code",
   "execution_count": null,
   "metadata": {},
   "outputs": [],
   "source": [
    "print(classification_report(test_cats, pred_cats, target_names=unique_labels(test_cats, pred_cats)))"
   ]
  },
  {
   "cell_type": "code",
   "execution_count": null,
   "metadata": {},
   "outputs": [],
   "source": []
  },
  {
   "cell_type": "code",
   "execution_count": null,
   "metadata": {},
   "outputs": [],
   "source": [
    "ldac2.fit(train_texts, train_cats)\n",
    "pred_cats = ldac2.predict(test_texts)\n",
    "ldac2_acc = accuracy_score(test_cats, pred_cats)"
   ]
  },
  {
   "cell_type": "code",
   "execution_count": null,
   "metadata": {},
   "outputs": [],
   "source": [
    "print('Accuratezza LDA-12: {:.1f}%'.format(100 * ldac2_acc))"
   ]
  },
  {
   "cell_type": "code",
   "execution_count": null,
   "metadata": {},
   "outputs": [],
   "source": [
    "classi = unique_labels(test_cats, pred_cats)\n",
    "plt.title(\"Matrice di confusione\")\n",
    "cm = confusion_matrix(test_cats, pred_cats)\n",
    "    \n",
    "plt.imshow(cm, interpolation='nearest', cmap=plt.cm.Blues)\n",
    "plt.colorbar(fraction=0.04, pad=0.1)#spazi occupati dalla barra a destra\n",
    "\n",
    "#labels \n",
    "tick_marks = range(len(classi))\n",
    "plt.xticks(tick_marks, classi, rotation=90)\n",
    "plt.yticks(tick_marks, classi)\n",
    "    \n",
    "plt.grid(None)\n",
    "  \n",
    "thresh = cm.max() / 2\n",
    "#colore dei numeri dentro i quadrati\n",
    "for i, j in product(range(cm.shape[0]), range(cm.shape[1])):\n",
    "    plt.text(j, i, format(cm[i, j], 'd'), horizontalalignment=\"center\", color=\"white\" if cm[i, j] > thresh else \"black\")\n",
    "    \n",
    "plt.ylabel(\"Classe osservata\")\n",
    "plt.xlabel(\"Classe prevista\")\n",
    "print(metrics.accuracy_score(pred_cats, test_cats))"
   ]
  },
  {
   "cell_type": "code",
   "execution_count": null,
   "metadata": {},
   "outputs": [],
   "source": [
    "print(classification_report(test_cats, pred_cats, target_names=unique_labels(test_cats, pred_cats)))"
   ]
  },
  {
   "cell_type": "code",
   "execution_count": null,
   "metadata": {},
   "outputs": [],
   "source": []
  },
  {
   "cell_type": "code",
   "execution_count": null,
   "metadata": {},
   "outputs": [],
   "source": [
    "tfc.fit(train_texts, train_cats)\n",
    "pred_cats = tfc.predict(test_texts)\n",
    "tfc_acc = accuracy_score(test_cats, pred_cats)"
   ]
  },
  {
   "cell_type": "code",
   "execution_count": null,
   "metadata": {},
   "outputs": [],
   "source": [
    "print('Accuratezza senza LDA: {:.1f}%'.format(100 * tfc_acc))"
   ]
  },
  {
   "cell_type": "code",
   "execution_count": null,
   "metadata": {},
   "outputs": [],
   "source": [
    "classi = unique_labels(test_cats, pred_cats)\n",
    "plt.title(\"Matrice di confusione\")\n",
    "cm = confusion_matrix(test_cats, pred_cats)\n",
    "    \n",
    "plt.imshow(cm, interpolation='nearest', cmap=plt.cm.Blues)\n",
    "plt.colorbar(fraction=0.04, pad=0.1)#spazi occupati dalla barra a destra\n",
    "\n",
    "#labels \n",
    "tick_marks = range(len(classi))\n",
    "plt.xticks(tick_marks, classi, rotation=90)\n",
    "plt.yticks(tick_marks, classi)\n",
    "    \n",
    "plt.grid(None)\n",
    "  \n",
    "thresh = cm.max() / 2\n",
    "#colore dei numeri dentro i quadrati\n",
    "for i, j in product(range(cm.shape[0]), range(cm.shape[1])):\n",
    "    plt.text(j, i, format(cm[i, j], 'd'), horizontalalignment=\"center\", color=\"white\" if cm[i, j] > thresh else \"black\")\n",
    "    \n",
    "plt.ylabel(\"Classe osservata\")\n",
    "plt.xlabel(\"Classe prevista\")\n",
    "print(metrics.accuracy_score(pred_cats, test_cats)) "
   ]
  },
  {
   "cell_type": "code",
   "execution_count": null,
   "metadata": {},
   "outputs": [],
   "source": [
    "print(classification_report(test_cats, pred_cats, target_names=unique_labels(test_cats, pred_cats)))"
   ]
  },
  {
   "cell_type": "code",
   "execution_count": null,
   "metadata": {},
   "outputs": [],
   "source": []
  },
  {
   "cell_type": "markdown",
   "metadata": {},
   "source": [
    "# Previsione di articoli su dati di oggi"
   ]
  },
  {
   "cell_type": "code",
   "execution_count": 33,
   "metadata": {},
   "outputs": [
    {
     "name": "stderr",
     "output_type": "stream",
     "text": [
      "100%|██████████| 1/1 [00:00<00:00, 33.42it/s]\n"
     ]
    },
    {
     "data": {
      "text/plain": [
       "array(['Politica'], dtype='<U8')"
      ]
     },
     "execution_count": 33,
     "metadata": {},
     "output_type": "execute_result"
    }
   ],
   "source": [
    "from estrattore_dati.estrattore_articoli_ansa import estrai\n",
    "p = estrai(\"\")\n",
    "x_1 = preproc([p])\n",
    "ldac.predict([' '.join(x_1[0]['testo'] +x_1[0]['titolo_articolo']+x_1[0]['sottotitolo'] + x_1[0]['tags'])])"
   ]
  },
  {
   "cell_type": "code",
   "execution_count": null,
   "metadata": {},
   "outputs": [],
   "source": []
  }
 ],
 "metadata": {
  "kernelspec": {
   "display_name": "Python 3",
   "language": "python",
   "name": "python3"
  },
  "language_info": {
   "codemirror_mode": {
    "name": "ipython",
    "version": 3
   },
   "file_extension": ".py",
   "mimetype": "text/x-python",
   "name": "python",
   "nbconvert_exporter": "python",
   "pygments_lexer": "ipython3",
   "version": "3.7.3"
  }
 },
 "nbformat": 4,
 "nbformat_minor": 2
}
