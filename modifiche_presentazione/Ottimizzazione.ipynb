{
 "cells": [
  {
   "cell_type": "code",
   "execution_count": 1,
   "metadata": {},
   "outputs": [
    {
     "name": "stdout",
     "output_type": "stream",
     "text": [
      "[nltk_data] Downloading package stopwords to\n",
      "[nltk_data]     C:\\Users\\astefani\\AppData\\Roaming\\nltk_data...\n",
      "[nltk_data]   Package stopwords is already up-to-date!\n"
     ]
    }
   ],
   "source": [
    "from AC import preproc\n",
    "from AC import get_news\n",
    "import inspect\n",
    "import nltk\n",
    "nltk.download(\"stopwords\")\n",
    "\n",
    "%load_ext autoreload\n",
    "%autoreload 2"
   ]
  },
  {
   "cell_type": "code",
   "execution_count": 3,
   "metadata": {},
   "outputs": [
    {
     "name": "stderr",
     "output_type": "stream",
     "text": [
      "100%|██████████| 2400/2400 [00:17<00:00, 140.63it/s]\n"
     ]
    }
   ],
   "source": [
    "economia = get_news(\"../articoli_economia/\")\n",
    "cultura = get_news(\"../articoli_cultura/\")\n",
    "tech = get_news(\"../articoli_tech/\")\n",
    "politica = get_news(\"../articoli_politica/\")\n",
    "sport = get_news(\"../articoli_sport/\")\n",
    "cronaca = get_news(\"../articoli_cronaca/\")\n",
    "\n",
    "for articolo in economia:\n",
    "    articolo['categoria'] = \"Economia\"\n",
    "for articolo in cultura:\n",
    "    articolo['categoria'] = \"Cultura\"\n",
    "for articolo in tech:\n",
    "    articolo['categoria'] = \"Tech\"\n",
    "for articolo in politica:\n",
    "    articolo['categoria'] = \"Politica\"\n",
    "for articolo in sport:\n",
    "    articolo['categoria'] = \"Sport\"\n",
    "for articolo in cronaca:\n",
    "    articolo['categoria'] = \"Cronaca\"\n",
    "dati_preprocessati =  preproc(tech + politica + cultura + economia + sport + cronaca)"
   ]
  },
  {
   "cell_type": "code",
   "execution_count": 4,
   "metadata": {},
   "outputs": [],
   "source": [
    "from sklearn.feature_extraction.text import CountVectorizer\n",
    "from sklearn.decomposition import LatentDirichletAllocation\n",
    "from sklearn.model_selection import train_test_split\n",
    "from sklearn.tree import DecisionTreeClassifier\n",
    "from sklearn.model_selection import ParameterGrid\n",
    "\n",
    "import numpy as np\n",
    "import pandas as pd\n",
    "import math\n",
    "\n",
    "import tqdm\n",
    "import matplotlib.pyplot as plt\n",
    "from sklearn.pipeline import Pipeline\n",
    "from sklearn import linear_model,metrics"
   ]
  },
  {
   "cell_type": "code",
   "execution_count": 48,
   "metadata": {},
   "outputs": [
    {
     "name": "stderr",
     "output_type": "stream",
     "text": [
      "C:\\Python\\Anaconda3\\lib\\site-packages\\sklearn\\model_selection\\_split.py:2026: FutureWarning: From version 0.21, test_size will always complement train_size unless both are specified.\n",
      "  FutureWarning)\n"
     ]
    }
   ],
   "source": [
    "seed = 0\n",
    "train_documents,test_documents = train_test_split(dati_preprocessati,random_state=seed,train_size=0.5)\n",
    "test_documents, val_documents = train_test_split(test_documents,random_state=seed,train_size=0.5)"
   ]
  },
  {
   "cell_type": "code",
   "execution_count": 49,
   "metadata": {},
   "outputs": [],
   "source": [
    "docs_texts = [' '.join([word for word in x['testo']] + x['tags'] + x['sottotitolo'] + x['titolo_articolo']) for x in dati_preprocessati]\n",
    "train_texts = [' '.join([word for word in x['testo']] + x['sottotitolo'] + x['titolo_articolo']) for x in train_documents]\n",
    "test_texts = [' '.join([word for word in x['testo']] + x['sottotitolo'] + x['titolo_articolo']) for x in test_documents]\n",
    "val_texts = [' '.join([word for word in x['testo']] + x['sottotitolo'] + x['titolo_articolo']) for x in val_documents]\n",
    "\n",
    "docs_cats = [x[\"categoria\"] for x in dati_preprocessati]\n",
    "train_cats = [x[\"categoria\"] for x in train_documents]\n",
    "test_cats = [x[\"categoria\"] for x in test_documents]\n",
    "val_cats = [x[\"categoria\"] for x in val_documents]"
   ]
  },
  {
   "cell_type": "markdown",
   "metadata": {},
   "source": [
    "# Ottimizzazione con LDA, 12 componenti"
   ]
  },
  {
   "cell_type": "code",
   "execution_count": 84,
   "metadata": {},
   "outputs": [
    {
     "data": {
      "text/plain": [
       "DecisionTreeClassifier(class_weight=None, criterion='gini', max_depth=None,\n",
       "            max_features=None, max_leaf_nodes=None,\n",
       "            min_impurity_decrease=0.0, min_impurity_split=None,\n",
       "            min_samples_leaf=1, min_samples_split=2,\n",
       "            min_weight_fraction_leaf=0.0, presort=False, random_state=0,\n",
       "            splitter='best')"
      ]
     },
     "execution_count": 84,
     "metadata": {},
     "output_type": "execute_result"
    }
   ],
   "source": [
    "params_tdm = {\n",
    "    'ngram_range': (1, 3),\n",
    "    'min_df': 9,\n",
    "    'max_df': 0.5\n",
    "}\n",
    "\n",
    "params_lda = {\n",
    "    'n_components':12,\n",
    "    'learning_decay':0.7    \n",
    "}\n",
    "\n",
    "tf = CountVectorizer(max_features=1000000, lowercase=True, **params_tdm).fit(train_texts)\n",
    "tf_train = tf.transform(train_texts)\n",
    "ldax = LatentDirichletAllocation(max_iter=50, learning_method='online', random_state=0, **params_lda).fit(tf_train.toarray())\n",
    "ldax_train = ldax.transform(tf_train.toarray())\n",
    "tf_val = tf.transform(val_texts)\n",
    "ldax_val = ldax.transform(tf_val.toarray())\n",
    "\n",
    "ldac = DecisionTreeClassifier(random_state=0)\n",
    "ldac.fit(ldax_train, train_cats)"
   ]
  },
  {
   "cell_type": "code",
   "execution_count": 85,
   "metadata": {},
   "outputs": [
    {
     "name": "stdout",
     "output_type": "stream",
     "text": [
      "Profondità dell'albero allenato senza restrizioni: 17\n",
      "Massimo numero minimo di osservazioni in una foglia: 600\n"
     ]
    }
   ],
   "source": [
    "n = ldac.tree_.max_depth\n",
    "print(\"Profondità dell'albero allenato senza restrizioni: {}\".format(ldac.tree_.max_depth))\n",
    "print(\"Massimo numero minimo di osservazioni in una foglia: {}\".format(len(ldax_train) // 2))"
   ]
  },
  {
   "cell_type": "code",
   "execution_count": 86,
   "metadata": {},
   "outputs": [
    {
     "name": "stdout",
     "output_type": "stream",
     "text": [
      "[{'max_depth': array([ 1,  2,  3,  4,  5,  6,  7,  8,  9, 10, 11, 12, 13, 14, 15, 16, 17]), 'min_samples_leaf': array([  1,   2,   4,   8,  16,  32,  64, 128, 256], dtype=int32)}]\n"
     ]
    }
   ],
   "source": [
    "param_grid = ParameterGrid({\n",
    "    'max_depth': np.arange(1, n+1),\n",
    "    'min_samples_leaf': 2 ** np.arange(int(math.log(len(ldax_train) // 2,2))),\n",
    "})\n",
    "print(param_grid.param_grid)"
   ]
  },
  {
   "cell_type": "code",
   "execution_count": 87,
   "metadata": {},
   "outputs": [
    {
     "name": "stderr",
     "output_type": "stream",
     "text": [
      "\n",
      "  0%|          | 0/153 [00:00<?, ?it/s]\n",
      " 24%|██▍       | 37/153 [00:00<00:00, 338.83it/s]\n",
      " 39%|███▊      | 59/153 [00:00<00:00, 281.29it/s]\n",
      " 52%|█████▏    | 80/153 [00:00<00:00, 247.00it/s]\n",
      " 65%|██████▌   | 100/153 [00:00<00:00, 223.62it/s]\n",
      " 77%|███████▋  | 118/153 [00:00<00:00, 202.00it/s]\n",
      " 89%|████████▉ | 136/153 [00:00<00:00, 189.21it/s]\n",
      "100%|██████████| 153/153 [00:00<00:00, 204.33it/s]"
     ]
    },
    {
     "name": "stdout",
     "output_type": "stream",
     "text": [
      "Primi 5:\n"
     ]
    },
    {
     "data": {
      "text/html": [
       "<div>\n",
       "<style scoped>\n",
       "    .dataframe tbody tr th:only-of-type {\n",
       "        vertical-align: middle;\n",
       "    }\n",
       "\n",
       "    .dataframe tbody tr th {\n",
       "        vertical-align: top;\n",
       "    }\n",
       "\n",
       "    .dataframe thead th {\n",
       "        text-align: right;\n",
       "    }\n",
       "</style>\n",
       "<table border=\"1\" class=\"dataframe\">\n",
       "  <thead>\n",
       "    <tr style=\"text-align: right;\">\n",
       "      <th></th>\n",
       "      <th>accuracy_score</th>\n",
       "      <th>max_depth</th>\n",
       "      <th>min_samples_leaf</th>\n",
       "    </tr>\n",
       "  </thead>\n",
       "  <tbody>\n",
       "    <tr>\n",
       "      <th>0</th>\n",
       "      <td>0.970000</td>\n",
       "      <td>17</td>\n",
       "      <td>1</td>\n",
       "    </tr>\n",
       "    <tr>\n",
       "      <th>1</th>\n",
       "      <td>0.966667</td>\n",
       "      <td>16</td>\n",
       "      <td>1</td>\n",
       "    </tr>\n",
       "    <tr>\n",
       "      <th>2</th>\n",
       "      <td>0.963333</td>\n",
       "      <td>15</td>\n",
       "      <td>1</td>\n",
       "    </tr>\n",
       "    <tr>\n",
       "      <th>3</th>\n",
       "      <td>0.938333</td>\n",
       "      <td>14</td>\n",
       "      <td>1</td>\n",
       "    </tr>\n",
       "    <tr>\n",
       "      <th>4</th>\n",
       "      <td>0.915000</td>\n",
       "      <td>13</td>\n",
       "      <td>1</td>\n",
       "    </tr>\n",
       "  </tbody>\n",
       "</table>\n",
       "</div>"
      ],
      "text/plain": [
       "   accuracy_score  max_depth  min_samples_leaf\n",
       "0        0.970000         17                 1\n",
       "1        0.966667         16                 1\n",
       "2        0.963333         15                 1\n",
       "3        0.938333         14                 1\n",
       "4        0.915000         13                 1"
      ]
     },
     "metadata": {},
     "output_type": "display_data"
    },
    {
     "name": "stdout",
     "output_type": "stream",
     "text": [
      "Ultimi 5:\n"
     ]
    },
    {
     "data": {
      "text/html": [
       "<div>\n",
       "<style scoped>\n",
       "    .dataframe tbody tr th:only-of-type {\n",
       "        vertical-align: middle;\n",
       "    }\n",
       "\n",
       "    .dataframe tbody tr th {\n",
       "        vertical-align: top;\n",
       "    }\n",
       "\n",
       "    .dataframe thead th {\n",
       "        text-align: right;\n",
       "    }\n",
       "</style>\n",
       "<table border=\"1\" class=\"dataframe\">\n",
       "  <thead>\n",
       "    <tr style=\"text-align: right;\">\n",
       "      <th></th>\n",
       "      <th>accuracy_score</th>\n",
       "      <th>max_depth</th>\n",
       "      <th>min_samples_leaf</th>\n",
       "    </tr>\n",
       "  </thead>\n",
       "  <tbody>\n",
       "    <tr>\n",
       "      <th>148</th>\n",
       "      <td>0.326667</td>\n",
       "      <td>1</td>\n",
       "      <td>8</td>\n",
       "    </tr>\n",
       "    <tr>\n",
       "      <th>149</th>\n",
       "      <td>0.326667</td>\n",
       "      <td>1</td>\n",
       "      <td>16</td>\n",
       "    </tr>\n",
       "    <tr>\n",
       "      <th>150</th>\n",
       "      <td>0.326667</td>\n",
       "      <td>1</td>\n",
       "      <td>32</td>\n",
       "    </tr>\n",
       "    <tr>\n",
       "      <th>151</th>\n",
       "      <td>0.326667</td>\n",
       "      <td>1</td>\n",
       "      <td>64</td>\n",
       "    </tr>\n",
       "    <tr>\n",
       "      <th>152</th>\n",
       "      <td>0.326667</td>\n",
       "      <td>1</td>\n",
       "      <td>128</td>\n",
       "    </tr>\n",
       "  </tbody>\n",
       "</table>\n",
       "</div>"
      ],
      "text/plain": [
       "     accuracy_score  max_depth  min_samples_leaf\n",
       "148        0.326667          1                 8\n",
       "149        0.326667          1                16\n",
       "150        0.326667          1                32\n",
       "151        0.326667          1                64\n",
       "152        0.326667          1               128"
      ]
     },
     "execution_count": 87,
     "metadata": {},
     "output_type": "execute_result"
    }
   ],
   "source": [
    "risultati = []\n",
    "for params in tqdm.tqdm(param_grid):\n",
    "    ldac = DecisionTreeClassifier(random_state=0, **params).fit(ldax_train, train_cats)\n",
    "    y_pred = ldac.predict(ldax_val)\n",
    "    params[\"accuracy_score\"] = metrics.accuracy_score(val_cats, y_pred)\n",
    "    risultati.append(params)\n",
    "\n",
    "risultati = pd.DataFrame(risultati).sort_values([\"accuracy_score\", \"max_depth\"], ascending=[False, True])\n",
    "risultati.reset_index(drop=True, inplace=True)\n",
    "print(\"Primi 5:\")\n",
    "display(risultati.head())\n",
    "\n",
    "print(\"Ultimi 5:\")\n",
    "risultati.tail()"
   ]
  },
  {
   "cell_type": "code",
   "execution_count": 88,
   "metadata": {},
   "outputs": [
    {
     "data": {
      "image/png": "[encoded data removed]",
      "text/plain": [
       "<Figure size 864x432 with 2 Axes>"
      ]
     },
     "metadata": {},
     "output_type": "display_data"
    }
   ],
   "source": [
    "from AC import grafico_metrica_iperparametri\n",
    "plt.figure(figsize=(12, 6))\n",
    "\n",
    "grafico_metrica_iperparametri(risultati, \"max_depth\", \"min_samples_leaf\", \"accuracy_score\")\n",
    "plt.yscale(\"log\", basey=2)\n",
    "\n",
    "plt.show()"
   ]
  },
  {
   "cell_type": "markdown",
   "metadata": {},
   "source": [
    "# Ottimizzazione con LDA, 48 componenti"
   ]
  },
  {
   "cell_type": "code",
   "execution_count": 68,
   "metadata": {},
   "outputs": [
    {
     "data": {
      "text/plain": [
       "DecisionTreeClassifier(class_weight=None, criterion='gini', max_depth=None,\n",
       "            max_features=None, max_leaf_nodes=None,\n",
       "            min_impurity_decrease=0.0, min_impurity_split=None,\n",
       "            min_samples_leaf=1, min_samples_split=2,\n",
       "            min_weight_fraction_leaf=0.0, presort=False, random_state=0,\n",
       "            splitter='best')"
      ]
     },
     "execution_count": 68,
     "metadata": {},
     "output_type": "execute_result"
    }
   ],
   "source": [
    "params_tdm = {\n",
    "    'ngram_range': (1, 3),\n",
    "    'min_df': 9,\n",
    "    'max_df': 0.5\n",
    "}\n",
    "\n",
    "params_lda = {\n",
    "    'n_components':48,\n",
    "    'learning_decay':0.7    \n",
    "}\n",
    "\n",
    "tf = CountVectorizer(max_features=1000000, lowercase=True, **params_tdm).fit(train_texts)\n",
    "tf_train = tf.transform(train_texts)\n",
    "ldax = LatentDirichletAllocation(max_iter=50, learning_method='online', random_state=0, **params_lda).fit(tf_train.toarray())\n",
    "ldax_train = ldax.transform(tf_train.toarray())\n",
    "tf_val = tf.transform(val_texts)\n",
    "ldax_val = ldax.transform(tf_val.toarray())\n",
    "\n",
    "ldac = DecisionTreeClassifier(random_state=0)\n",
    "ldac.fit(ldax_train, train_cats)"
   ]
  },
  {
   "cell_type": "code",
   "execution_count": 69,
   "metadata": {},
   "outputs": [
    {
     "name": "stdout",
     "output_type": "stream",
     "text": [
      "Profondità dell'albero allenato senza restrizioni: 23\n",
      "Massimo numero minimo di osservazioni in una foglia: 600\n"
     ]
    }
   ],
   "source": [
    "n = ldac.tree_.max_depth\n",
    "print(\"Profondità dell'albero allenato senza restrizioni: {}\".format(ldac.tree_.max_depth))\n",
    "print(\"Massimo numero minimo di osservazioni in una foglia: {}\".format(len(ldax_train) // 2))"
   ]
  },
  {
   "cell_type": "code",
   "execution_count": 70,
   "metadata": {},
   "outputs": [
    {
     "name": "stdout",
     "output_type": "stream",
     "text": [
      "[{'max_depth': array([ 1,  2,  3,  4,  5,  6,  7,  8,  9, 10, 11, 12, 13, 14, 15, 16, 17,\n",
      "       18, 19, 20, 21, 22, 23]), 'min_samples_leaf': array([  1,   2,   4,   8,  16,  32,  64, 128, 256], dtype=int32)}]\n"
     ]
    }
   ],
   "source": [
    "param_grid = ParameterGrid({\n",
    "    'max_depth': np.arange(1, n+1),\n",
    "    'min_samples_leaf': 2 ** np.arange(int(math.log(len(ldax_train) // 2,2))),\n",
    "})\n",
    "print(param_grid.param_grid)"
   ]
  },
  {
   "cell_type": "code",
   "execution_count": 71,
   "metadata": {},
   "outputs": [
    {
     "name": "stderr",
     "output_type": "stream",
     "text": [
      "\n",
      "  0%|          | 0/207 [00:00<?, ?it/s]\n",
      " 11%|█         | 22/207 [00:00<00:00, 201.47it/s]\n",
      " 17%|█▋        | 36/207 [00:00<00:00, 171.98it/s]\n",
      " 23%|██▎       | 47/207 [00:00<00:01, 141.88it/s]\n",
      " 27%|██▋       | 56/207 [00:00<00:01, 116.63it/s]\n",
      " 31%|███▏      | 65/207 [00:00<00:01, 103.72it/s]\n",
      " 36%|███▌      | 74/207 [00:00<00:01, 91.67it/s] \n",
      " 40%|████      | 83/207 [00:00<00:01, 84.77it/s]\n",
      " 44%|████▍     | 91/207 [00:00<00:01, 80.96it/s]\n",
      " 48%|████▊     | 99/207 [00:01<00:01, 75.04it/s]\n",
      " 52%|█████▏    | 107/207 [00:01<00:01, 71.38it/s]\n",
      " 56%|█████▌    | 115/207 [00:01<00:01, 69.03it/s]\n",
      " 59%|█████▉    | 122/207 [00:01<00:01, 67.48it/s]\n",
      " 62%|██████▏   | 129/207 [00:01<00:01, 66.43it/s]\n",
      " 66%|██████▌   | 137/207 [00:01<00:01, 68.34it/s]\n",
      " 70%|██████▉   | 144/207 [00:01<00:00, 67.01it/s]\n",
      " 73%|███████▎  | 151/207 [00:01<00:00, 63.31it/s]\n",
      " 76%|███████▋  | 158/207 [00:01<00:00, 63.55it/s]\n",
      " 80%|███████▉  | 165/207 [00:02<00:00, 63.71it/s]\n",
      " 84%|████████▎ | 173/207 [00:02<00:00, 63.83it/s]\n",
      " 87%|████████▋ | 181/207 [00:02<00:00, 63.91it/s]\n",
      " 91%|█████████ | 188/207 [00:02<00:00, 63.97it/s]\n",
      " 94%|█████████▍| 195/207 [00:02<00:00, 61.38it/s]\n",
      " 98%|█████████▊| 202/207 [00:02<00:00, 62.17it/s]\n",
      "100%|██████████| 207/207 [00:02<00:00, 76.26it/s]"
     ]
    },
    {
     "name": "stdout",
     "output_type": "stream",
     "text": [
      "Primi 5:\n"
     ]
    },
    {
     "data": {
      "text/html": [
       "<div>\n",
       "<style scoped>\n",
       "    .dataframe tbody tr th:only-of-type {\n",
       "        vertical-align: middle;\n",
       "    }\n",
       "\n",
       "    .dataframe tbody tr th {\n",
       "        vertical-align: top;\n",
       "    }\n",
       "\n",
       "    .dataframe thead th {\n",
       "        text-align: right;\n",
       "    }\n",
       "</style>\n",
       "<table border=\"1\" class=\"dataframe\">\n",
       "  <thead>\n",
       "    <tr style=\"text-align: right;\">\n",
       "      <th></th>\n",
       "      <th>accuracy_score</th>\n",
       "      <th>max_depth</th>\n",
       "      <th>min_samples_leaf</th>\n",
       "    </tr>\n",
       "  </thead>\n",
       "  <tbody>\n",
       "    <tr>\n",
       "      <th>0</th>\n",
       "      <td>0.960000</td>\n",
       "      <td>21</td>\n",
       "      <td>1</td>\n",
       "    </tr>\n",
       "    <tr>\n",
       "      <th>1</th>\n",
       "      <td>0.956667</td>\n",
       "      <td>22</td>\n",
       "      <td>1</td>\n",
       "    </tr>\n",
       "    <tr>\n",
       "      <th>2</th>\n",
       "      <td>0.955000</td>\n",
       "      <td>23</td>\n",
       "      <td>1</td>\n",
       "    </tr>\n",
       "    <tr>\n",
       "      <th>3</th>\n",
       "      <td>0.950000</td>\n",
       "      <td>18</td>\n",
       "      <td>1</td>\n",
       "    </tr>\n",
       "    <tr>\n",
       "      <th>4</th>\n",
       "      <td>0.950000</td>\n",
       "      <td>20</td>\n",
       "      <td>1</td>\n",
       "    </tr>\n",
       "  </tbody>\n",
       "</table>\n",
       "</div>"
      ],
      "text/plain": [
       "   accuracy_score  max_depth  min_samples_leaf\n",
       "0        0.960000         21                 1\n",
       "1        0.956667         22                 1\n",
       "2        0.955000         23                 1\n",
       "3        0.950000         18                 1\n",
       "4        0.950000         20                 1"
      ]
     },
     "metadata": {},
     "output_type": "display_data"
    },
    {
     "name": "stdout",
     "output_type": "stream",
     "text": [
      "Ultimi 5:\n"
     ]
    },
    {
     "data": {
      "text/html": [
       "<div>\n",
       "<style scoped>\n",
       "    .dataframe tbody tr th:only-of-type {\n",
       "        vertical-align: middle;\n",
       "    }\n",
       "\n",
       "    .dataframe tbody tr th {\n",
       "        vertical-align: top;\n",
       "    }\n",
       "\n",
       "    .dataframe thead th {\n",
       "        text-align: right;\n",
       "    }\n",
       "</style>\n",
       "<table border=\"1\" class=\"dataframe\">\n",
       "  <thead>\n",
       "    <tr style=\"text-align: right;\">\n",
       "      <th></th>\n",
       "      <th>accuracy_score</th>\n",
       "      <th>max_depth</th>\n",
       "      <th>min_samples_leaf</th>\n",
       "    </tr>\n",
       "  </thead>\n",
       "  <tbody>\n",
       "    <tr>\n",
       "      <th>202</th>\n",
       "      <td>0.243333</td>\n",
       "      <td>1</td>\n",
       "      <td>4</td>\n",
       "    </tr>\n",
       "    <tr>\n",
       "      <th>203</th>\n",
       "      <td>0.243333</td>\n",
       "      <td>1</td>\n",
       "      <td>8</td>\n",
       "    </tr>\n",
       "    <tr>\n",
       "      <th>204</th>\n",
       "      <td>0.243333</td>\n",
       "      <td>1</td>\n",
       "      <td>16</td>\n",
       "    </tr>\n",
       "    <tr>\n",
       "      <th>205</th>\n",
       "      <td>0.243333</td>\n",
       "      <td>1</td>\n",
       "      <td>32</td>\n",
       "    </tr>\n",
       "    <tr>\n",
       "      <th>206</th>\n",
       "      <td>0.243333</td>\n",
       "      <td>1</td>\n",
       "      <td>64</td>\n",
       "    </tr>\n",
       "  </tbody>\n",
       "</table>\n",
       "</div>"
      ],
      "text/plain": [
       "     accuracy_score  max_depth  min_samples_leaf\n",
       "202        0.243333          1                 4\n",
       "203        0.243333          1                 8\n",
       "204        0.243333          1                16\n",
       "205        0.243333          1                32\n",
       "206        0.243333          1                64"
      ]
     },
     "execution_count": 71,
     "metadata": {},
     "output_type": "execute_result"
    }
   ],
   "source": [
    "risultati = []\n",
    "for params in tqdm.tqdm(param_grid):\n",
    "    ldac = DecisionTreeClassifier(random_state=0, **params).fit(ldax_train, train_cats)\n",
    "    y_pred = ldac.predict(ldax_val)\n",
    "    params[\"accuracy_score\"] = metrics.accuracy_score(val_cats, y_pred)\n",
    "    risultati.append(params)\n",
    "\n",
    "risultati = pd.DataFrame(risultati).sort_values([\"accuracy_score\", \"max_depth\"], ascending=[False, True])\n",
    "risultati.reset_index(drop=True, inplace=True)\n",
    "print(\"Primi 5:\")\n",
    "display(risultati.head())\n",
    "\n",
    "print(\"Ultimi 5:\")\n",
    "risultati.tail()"
   ]
  },
  {
   "cell_type": "code",
   "execution_count": null,
   "metadata": {},
   "outputs": [],
   "source": []
  },
  {
   "cell_type": "markdown",
   "metadata": {},
   "source": [
    "# Ottimizzazione senza LDA"
   ]
  },
  {
   "cell_type": "code",
   "execution_count": 72,
   "metadata": {},
   "outputs": [
    {
     "data": {
      "text/plain": [
       "DecisionTreeClassifier(class_weight=None, criterion='gini', max_depth=None,\n",
       "            max_features=None, max_leaf_nodes=None,\n",
       "            min_impurity_decrease=0.0, min_impurity_split=None,\n",
       "            min_samples_leaf=1, min_samples_split=2,\n",
       "            min_weight_fraction_leaf=0.0, presort=False, random_state=0,\n",
       "            splitter='best')"
      ]
     },
     "execution_count": 72,
     "metadata": {},
     "output_type": "execute_result"
    }
   ],
   "source": [
    "params_tdm = {\n",
    "    'ngram_range': (1, 3),\n",
    "    'min_df': 9,\n",
    "    'max_df': 0.5\n",
    "}\n",
    "\n",
    "tf = CountVectorizer(max_features=1000000, lowercase=True, **params_tdm).fit(train_texts)\n",
    "tf_train = tf.transform(train_texts)\n",
    "tf_val = tf.transform(val_texts)\n",
    "\n",
    "tfc = DecisionTreeClassifier(random_state=0)\n",
    "tfc.fit(tf_train.toarray(), train_cats)"
   ]
  },
  {
   "cell_type": "code",
   "execution_count": 73,
   "metadata": {},
   "outputs": [
    {
     "name": "stdout",
     "output_type": "stream",
     "text": [
      "Profondità dell'albero allenato senza restrizioni: 34\n",
      "Massimo numero minimo di osservazioni in una foglia: 600\n"
     ]
    }
   ],
   "source": [
    "m = tfc.tree_.max_depth\n",
    "print(\"Profondità dell'albero allenato senza restrizioni: {}\".format(tfc.tree_.max_depth))\n",
    "print(\"Massimo numero minimo di osservazioni in una foglia: {}\".format(len(tf_train.toarray()) // 2))"
   ]
  },
  {
   "cell_type": "code",
   "execution_count": 74,
   "metadata": {},
   "outputs": [
    {
     "name": "stdout",
     "output_type": "stream",
     "text": [
      "[{'max_depth': array([ 1,  2,  3,  4,  5,  6,  7,  8,  9, 10, 11, 12, 13, 14, 15, 16, 17,\n",
      "       18, 19, 20, 21, 22, 23, 24, 25, 26, 27, 28, 29, 30, 31, 32, 33, 34]), 'min_samples_leaf': array([  1,   2,   4,   8,  16,  32,  64, 128, 256], dtype=int32)}]\n"
     ]
    }
   ],
   "source": [
    "param_grid = ParameterGrid({\n",
    "    'max_depth': np.arange(1, m+1),\n",
    "    'min_samples_leaf': 2 ** np.arange(int(math.log(len(tf_train.toarray()) // 2,2))),\n",
    "})\n",
    "print(param_grid.param_grid)"
   ]
  },
  {
   "cell_type": "code",
   "execution_count": 75,
   "metadata": {},
   "outputs": [
    {
     "name": "stderr",
     "output_type": "stream",
     "text": [
      "\n",
      "  0%|          | 0/306 [00:00<?, ?it/s]\n",
      "  1%|          | 2/306 [00:00<00:21, 14.24it/s]\n",
      "  1%|▏         | 4/306 [00:00<00:21, 13.79it/s]\n",
      "  2%|▏         | 6/306 [00:00<00:21, 13.92it/s]\n",
      "  3%|▎         | 8/306 [00:00<00:21, 13.57it/s]\n",
      "  3%|▎         | 10/306 [00:00<00:22, 12.93it/s]\n",
      "  4%|▍         | 12/306 [00:00<00:24, 11.83it/s]\n",
      "  5%|▍         | 14/306 [00:01<00:26, 10.88it/s]\n",
      "  5%|▌         | 16/306 [00:01<00:28, 10.05it/s]\n",
      "  6%|▌         | 17/306 [00:01<00:29,  9.77it/s]\n",
      "  6%|▌         | 18/306 [00:01<00:30,  9.58it/s]\n",
      "  6%|▌         | 19/306 [00:01<00:33,  8.68it/s]\n",
      "  7%|▋         | 20/306 [00:01<00:35,  8.15it/s]\n",
      "  7%|▋         | 21/306 [00:02<00:36,  7.81it/s]\n",
      "  7%|▋         | 22/306 [00:02<00:37,  7.59it/s]\n",
      "  8%|▊         | 23/306 [00:02<00:38,  7.44it/s]\n",
      "  8%|▊         | 24/306 [00:02<00:38,  7.34it/s]\n",
      "  8%|▊         | 25/306 [00:02<00:39,  7.04it/s]\n",
      "  8%|▊         | 26/306 [00:02<00:38,  7.30it/s]\n",
      "  9%|▉         | 27/306 [00:02<00:35,  7.78it/s]\n",
      "  9%|▉         | 28/306 [00:03<00:38,  7.31it/s]\n",
      "  9%|▉         | 29/306 [00:03<00:40,  6.79it/s]\n",
      " 10%|▉         | 30/306 [00:03<00:42,  6.47it/s]\n",
      " 10%|█         | 31/306 [00:03<00:43,  6.26it/s]\n",
      " 10%|█         | 32/306 [00:03<00:44,  6.13it/s]\n",
      " 11%|█         | 33/306 [00:03<00:46,  5.87it/s]\n",
      " 11%|█         | 34/306 [00:04<00:47,  5.70it/s]\n",
      " 11%|█▏        | 35/306 [00:04<00:44,  6.06it/s]\n",
      " 12%|█▏        | 36/306 [00:04<00:40,  6.75it/s]\n",
      " 12%|█▏        | 37/306 [00:04<00:43,  6.25it/s]\n",
      " 12%|█▏        | 38/306 [00:04<00:47,  5.64it/s]\n",
      " 13%|█▎        | 39/306 [00:04<00:53,  5.02it/s]\n",
      " 13%|█▎        | 40/306 [00:05<00:53,  4.99it/s]\n",
      " 13%|█▎        | 41/306 [00:05<00:53,  4.98it/s]\n",
      " 14%|█▎        | 42/306 [00:05<00:51,  5.08it/s]\n",
      " 14%|█▍        | 43/306 [00:05<00:51,  5.16it/s]\n",
      " 14%|█▍        | 44/306 [00:05<00:46,  5.62it/s]\n",
      " 15%|█▌        | 46/306 [00:06<00:45,  5.76it/s]\n",
      " 15%|█▌        | 47/306 [00:06<00:49,  5.21it/s]\n",
      " 16%|█▌        | 48/306 [00:06<00:52,  4.89it/s]\n",
      " 16%|█▌        | 49/306 [00:06<00:54,  4.69it/s]\n",
      " 16%|█▋        | 50/306 [00:07<00:56,  4.56it/s]\n",
      " 17%|█▋        | 51/306 [00:07<01:01,  4.12it/s]\n",
      " 17%|█▋        | 52/306 [00:07<00:58,  4.34it/s]\n",
      " 17%|█▋        | 53/306 [00:07<00:51,  4.91it/s]\n",
      " 18%|█▊        | 54/306 [00:07<00:44,  5.71it/s]\n",
      " 18%|█▊        | 55/306 [00:08<00:47,  5.31it/s]\n",
      " 18%|█▊        | 56/306 [00:08<00:50,  4.95it/s]\n",
      " 19%|█▊        | 57/306 [00:08<00:51,  4.83it/s]\n",
      " 19%|█▉        | 58/306 [00:08<00:53,  4.65it/s]\n",
      " 19%|█▉        | 59/306 [00:09<00:54,  4.53it/s]\n",
      " 20%|█▉        | 60/306 [00:09<00:55,  4.45it/s]\n",
      " 20%|█▉        | 61/306 [00:09<00:53,  4.58it/s]\n",
      " 20%|██        | 62/306 [00:09<00:47,  5.13it/s]\n",
      " 21%|██        | 64/306 [00:09<00:44,  5.39it/s]\n",
      " 21%|██        | 65/306 [00:10<00:49,  4.88it/s]\n",
      " 22%|██▏       | 66/306 [00:10<00:51,  4.68it/s]\n",
      " 22%|██▏       | 67/306 [00:10<00:52,  4.55it/s]\n",
      " 22%|██▏       | 68/306 [00:10<00:53,  4.47it/s]\n",
      " 23%|██▎       | 69/306 [00:11<00:53,  4.41it/s]\n",
      " 23%|██▎       | 70/306 [00:11<00:51,  4.55it/s]\n",
      " 23%|██▎       | 71/306 [00:11<00:44,  5.23it/s]\n",
      " 24%|██▍       | 73/306 [00:11<00:43,  5.40it/s]\n",
      " 24%|██▍       | 74/306 [00:12<00:46,  5.00it/s]\n",
      " 25%|██▍       | 75/306 [00:12<00:50,  4.56it/s]\n",
      " 25%|██▍       | 76/306 [00:12<00:52,  4.38it/s]\n",
      " 25%|██▌       | 77/306 [00:12<00:54,  4.17it/s]\n",
      " 25%|██▌       | 78/306 [00:13<00:54,  4.20it/s]\n",
      " 26%|██▌       | 79/306 [00:13<00:52,  4.31it/s]\n",
      " 26%|██▌       | 80/306 [00:13<00:45,  5.00it/s]\n",
      " 26%|██▋       | 81/306 [00:13<00:38,  5.79it/s]\n",
      " 27%|██▋       | 82/306 [00:13<00:44,  4.99it/s]\n",
      " 27%|██▋       | 83/306 [00:14<00:50,  4.45it/s]\n",
      " 27%|██▋       | 84/306 [00:14<00:51,  4.31it/s]\n",
      " 28%|██▊       | 85/306 [00:14<00:52,  4.21it/s]\n",
      " 28%|██▊       | 86/306 [00:14<00:53,  4.15it/s]\n",
      " 28%|██▊       | 87/306 [00:15<00:53,  4.11it/s]\n",
      " 29%|██▉       | 88/306 [00:15<00:50,  4.32it/s]\n",
      " 29%|██▉       | 89/306 [00:15<00:43,  5.02it/s]\n",
      " 29%|██▉       | 90/306 [00:15<00:37,  5.80it/s]\n",
      " 30%|██▉       | 91/306 [00:15<00:43,  5.00it/s]\n",
      " 30%|███       | 92/306 [00:16<00:47,  4.55it/s]\n",
      " 30%|███       | 93/306 [00:16<00:49,  4.29it/s]\n",
      " 31%|███       | 94/306 [00:16<00:50,  4.20it/s]\n",
      " 31%|███       | 95/306 [00:16<00:50,  4.14it/s]\n",
      " 31%|███▏      | 96/306 [00:17<00:51,  4.10it/s]\n",
      " 32%|███▏      | 97/306 [00:17<00:49,  4.23it/s]\n",
      " 32%|███▏      | 98/306 [00:17<00:42,  4.93it/s]\n",
      " 33%|███▎      | 100/306 [00:17<00:40,  5.11it/s]\n",
      " 33%|███▎      | 101/306 [00:18<00:45,  4.52it/s]\n",
      " 33%|███▎      | 102/306 [00:18<00:47,  4.26it/s]\n",
      " 34%|███▎      | 103/306 [00:18<00:49,  4.10it/s]\n",
      " 34%|███▍      | 104/306 [00:18<00:50,  4.00it/s]\n",
      " 34%|███▍      | 105/306 [00:19<00:49,  4.08it/s]\n",
      " 35%|███▍      | 106/306 [00:19<00:47,  4.22it/s]\n",
      " 35%|███▍      | 107/306 [00:19<00:40,  4.91it/s]\n",
      " 36%|███▌      | 109/306 [00:19<00:38,  5.09it/s]\n",
      " 36%|███▌      | 110/306 [00:20<00:43,  4.51it/s]\n",
      " 36%|███▋      | 111/306 [00:20<00:46,  4.18it/s]\n",
      " 37%|███▋      | 112/306 [00:20<00:47,  4.05it/s]\n",
      " 37%|███▋      | 113/306 [00:20<00:48,  3.96it/s]\n",
      " 37%|███▋      | 114/306 [00:21<00:48,  3.97it/s]\n",
      " 38%|███▊      | 115/306 [00:21<00:45,  4.22it/s]\n",
      " 38%|███▊      | 116/306 [00:21<00:38,  4.92it/s]\n",
      " 38%|███▊      | 117/306 [00:21<00:33,  5.71it/s]\n",
      " 39%|███▊      | 118/306 [00:21<00:38,  4.84it/s]\n",
      " 39%|███▉      | 119/306 [00:22<00:42,  4.37it/s]\n",
      " 39%|███▉      | 120/306 [00:22<00:47,  3.94it/s]\n",
      " 40%|███▉      | 121/306 [00:22<00:49,  3.75it/s]\n",
      " 40%|███▉      | 122/306 [00:23<00:50,  3.63it/s]\n",
      " 40%|████      | 123/306 [00:23<00:49,  3.73it/s]\n",
      " 41%|████      | 124/306 [00:23<00:45,  4.03it/s]\n",
      " 41%|████      | 125/306 [00:23<00:38,  4.73it/s]\n",
      " 42%|████▏     | 127/306 [00:23<00:36,  4.90it/s]\n",
      " 42%|████▏     | 128/306 [00:24<00:40,  4.40it/s]\n",
      " 42%|████▏     | 129/306 [00:24<00:42,  4.19it/s]\n",
      " 42%|████▏     | 130/306 [00:24<00:43,  4.06it/s]\n",
      " 43%|████▎     | 131/306 [00:25<00:44,  3.97it/s]\n",
      " 43%|████▎     | 132/306 [00:25<00:43,  3.98it/s]\n",
      " 43%|████▎     | 133/306 [00:25<00:41,  4.14it/s]\n",
      " 44%|████▍     | 134/306 [00:25<00:35,  4.84it/s]\n",
      " 44%|████▍     | 136/306 [00:26<00:34,  4.98it/s]\n",
      " 45%|████▍     | 137/306 [00:26<00:37,  4.54it/s]\n",
      " 45%|████▌     | 138/306 [00:26<00:40,  4.20it/s]\n",
      " 45%|████▌     | 139/306 [00:26<00:41,  4.06it/s]\n",
      " 46%|████▌     | 140/306 [00:27<00:42,  3.90it/s]\n",
      " 46%|████▌     | 141/306 [00:27<00:42,  3.93it/s]\n",
      " 46%|████▋     | 142/306 [00:27<00:39,  4.18it/s]\n",
      " 47%|████▋     | 143/306 [00:27<00:33,  4.88it/s]\n",
      " 47%|████▋     | 145/306 [00:28<00:32,  5.01it/s]\n",
      " 48%|████▊     | 146/306 [00:28<00:35,  4.47it/s]\n",
      " 48%|████▊     | 147/306 [00:28<00:38,  4.15it/s]\n",
      " 48%|████▊     | 148/306 [00:28<00:39,  4.03it/s]\n",
      " 49%|████▊     | 149/306 [00:29<00:39,  3.95it/s]\n",
      " 49%|████▉     | 150/306 [00:29<00:39,  3.97it/s]\n",
      " 49%|████▉     | 151/306 [00:29<00:36,  4.21it/s]\n",
      " 50%|████▉     | 152/306 [00:29<00:31,  4.91it/s]\n",
      " 50%|█████     | 154/306 [00:30<00:30,  5.03it/s]\n",
      " 51%|█████     | 155/306 [00:30<00:33,  4.48it/s]\n",
      " 51%|█████     | 156/306 [00:30<00:36,  4.16it/s]\n",
      " 51%|█████▏    | 157/306 [00:30<00:36,  4.03it/s]\n",
      " 52%|█████▏    | 158/306 [00:31<00:37,  3.95it/s]\n",
      " 52%|█████▏    | 159/306 [00:31<00:37,  3.97it/s]\n",
      " 52%|█████▏    | 160/306 [00:31<00:34,  4.21it/s]\n",
      " 53%|█████▎    | 161/306 [00:31<00:29,  4.91it/s]\n",
      " 53%|█████▎    | 163/306 [00:32<00:28,  5.03it/s]\n",
      " 54%|█████▎    | 164/306 [00:32<00:31,  4.48it/s]\n",
      " 54%|█████▍    | 165/306 [00:32<00:33,  4.16it/s]\n",
      " 54%|█████▍    | 166/306 [00:32<00:35,  3.96it/s]\n",
      " 55%|█████▍    | 167/306 [00:33<00:36,  3.83it/s]\n",
      " 55%|█████▍    | 168/306 [00:33<00:35,  3.88it/s]\n",
      " 55%|█████▌    | 169/306 [00:33<00:33,  4.15it/s]\n",
      " 56%|█████▌    | 170/306 [00:33<00:28,  4.74it/s]\n",
      " 56%|█████▌    | 172/306 [00:34<00:27,  4.91it/s]\n",
      " 57%|█████▋    | 173/306 [00:34<00:30,  4.41it/s]\n",
      " 57%|█████▋    | 174/306 [00:34<00:32,  4.11it/s]\n",
      " 57%|█████▋    | 175/306 [00:35<00:33,  3.93it/s]\n",
      " 58%|█████▊    | 176/306 [00:35<00:33,  3.88it/s]\n",
      " 58%|█████▊    | 177/306 [00:35<00:32,  3.99it/s]\n",
      " 58%|█████▊    | 178/306 [00:35<00:30,  4.23it/s]\n",
      " 58%|█████▊    | 179/306 [00:35<00:25,  4.93it/s]\n",
      " 59%|█████▉    | 181/306 [00:36<00:24,  5.05it/s]\n",
      " 59%|█████▉    | 182/306 [00:36<00:27,  4.49it/s]\n",
      " 60%|█████▉    | 183/306 [00:36<00:29,  4.16it/s]\n",
      " 60%|██████    | 184/306 [00:37<00:30,  3.96it/s]\n",
      " 60%|██████    | 185/306 [00:37<00:31,  3.90it/s]\n",
      " 61%|██████    | 186/306 [00:37<00:29,  4.01it/s]\n",
      " 61%|██████    | 187/306 [00:37<00:28,  4.25it/s]\n",
      " 61%|██████▏   | 188/306 [00:37<00:23,  4.94it/s]\n",
      " 62%|██████▏   | 190/306 [00:38<00:23,  4.94it/s]\n",
      " 62%|██████▏   | 191/306 [00:38<00:27,  4.25it/s]\n",
      " 63%|██████▎   | 192/306 [00:38<00:29,  3.87it/s]\n",
      " 63%|██████▎   | 193/306 [00:39<00:29,  3.77it/s]\n",
      " 63%|██████▎   | 194/306 [00:39<00:29,  3.77it/s]\n",
      " 64%|██████▎   | 195/306 [00:39<00:28,  3.84it/s]\n",
      " 64%|██████▍   | 196/306 [00:39<00:26,  4.11it/s]\n",
      " 64%|██████▍   | 197/306 [00:40<00:22,  4.82it/s]\n",
      " 65%|██████▌   | 199/306 [00:40<00:21,  4.96it/s]\n",
      " 65%|██████▌   | 200/306 [00:40<00:23,  4.44it/s]\n",
      " 66%|██████▌   | 201/306 [00:41<00:25,  4.13it/s]\n",
      " 66%|██████▌   | 202/306 [00:41<00:26,  3.94it/s]\n",
      " 66%|██████▋   | 203/306 [00:41<00:26,  3.89it/s]\n",
      " 67%|██████▋   | 204/306 [00:41<00:25,  3.92it/s]\n",
      " 67%|██████▋   | 205/306 [00:42<00:24,  4.10it/s]\n",
      " 67%|██████▋   | 206/306 [00:42<00:20,  4.80it/s]\n",
      " 68%|██████▊   | 207/306 [00:42<00:17,  5.60it/s]\n",
      " 68%|██████▊   | 208/306 [00:42<00:20,  4.68it/s]\n",
      " 68%|██████▊   | 209/306 [00:42<00:23,  4.19it/s]\n",
      " 69%|██████▊   | 210/306 [00:43<00:24,  3.91it/s]\n",
      " 69%|██████▉   | 211/306 [00:43<00:25,  3.80it/s]\n",
      " 69%|██████▉   | 212/306 [00:43<00:25,  3.72it/s]\n",
      " 70%|██████▉   | 213/306 [00:43<00:24,  3.80it/s]\n",
      " 70%|██████▉   | 214/306 [00:44<00:22,  4.08it/s]\n",
      " 70%|███████   | 215/306 [00:44<00:19,  4.79it/s]\n",
      " 71%|███████   | 217/306 [00:44<00:18,  4.89it/s]\n",
      " 71%|███████   | 218/306 [00:44<00:20,  4.40it/s]\n",
      " 72%|███████▏  | 219/306 [00:45<00:21,  4.03it/s]\n",
      " 72%|███████▏  | 220/306 [00:45<00:22,  3.88it/s]\n",
      " 72%|███████▏  | 221/306 [00:45<00:22,  3.78it/s]\n",
      " 73%|███████▎  | 222/306 [00:46<00:21,  3.84it/s]\n",
      " 73%|███████▎  | 223/306 [00:46<00:20,  4.11it/s]\n",
      " 73%|███████▎  | 224/306 [00:46<00:17,  4.71it/s]\n",
      " 74%|███████▍  | 226/306 [00:46<00:16,  4.83it/s]\n",
      " 74%|███████▍  | 227/306 [00:47<00:18,  4.19it/s]\n",
      " 75%|███████▍  | 228/306 [00:47<00:20,  3.84it/s]\n",
      " 75%|███████▍  | 229/306 [00:47<00:20,  3.69it/s]\n",
      " 75%|███████▌  | 230/306 [00:48<00:20,  3.65it/s]\n",
      " 75%|███████▌  | 231/306 [00:48<00:20,  3.68it/s]\n",
      " 76%|███████▌  | 232/306 [00:48<00:18,  3.91it/s]\n",
      " 76%|███████▌  | 233/306 [00:48<00:15,  4.62it/s]\n",
      " 77%|███████▋  | 235/306 [00:48<00:14,  4.82it/s]\n",
      " 77%|███████▋  | 236/306 [00:49<00:16,  4.19it/s]\n",
      " 77%|███████▋  | 237/306 [00:49<00:17,  3.90it/s]\n",
      " 78%|███████▊  | 238/306 [00:49<00:17,  3.79it/s]\n",
      " 78%|███████▊  | 239/306 [00:50<00:18,  3.72it/s]\n",
      " 78%|███████▊  | 240/306 [00:50<00:17,  3.80it/s]\n",
      " 79%|███████▉  | 241/306 [00:50<00:16,  4.01it/s]\n",
      " 79%|███████▉  | 242/306 [00:50<00:13,  4.71it/s]\n",
      " 79%|███████▉  | 243/306 [00:50<00:11,  5.52it/s]\n",
      " 80%|███████▉  | 244/306 [00:51<00:13,  4.63it/s]\n",
      " 80%|████████  | 245/306 [00:51<00:14,  4.25it/s]\n",
      " 80%|████████  | 246/306 [00:51<00:15,  3.94it/s]\n",
      " 81%|████████  | 247/306 [00:52<00:15,  3.82it/s]\n",
      " 81%|████████  | 248/306 [00:52<00:14,  3.87it/s]\n",
      " 81%|████████▏ | 249/306 [00:52<00:14,  3.91it/s]\n",
      " 82%|████████▏ | 250/306 [00:52<00:13,  4.09it/s]\n",
      " 82%|████████▏ | 251/306 [00:52<00:11,  4.80it/s]\n",
      " 82%|████████▏ | 252/306 [00:52<00:09,  5.59it/s]\n",
      " 83%|████████▎ | 253/306 [00:53<00:11,  4.78it/s]\n",
      " 83%|████████▎ | 254/306 [00:53<00:12,  4.25it/s]\n",
      " 83%|████████▎ | 255/306 [00:53<00:12,  4.01it/s]\n",
      " 84%|████████▎ | 256/306 [00:54<00:12,  3.87it/s]\n",
      " 84%|████████▍ | 257/306 [00:54<00:13,  3.70it/s]\n",
      " 84%|████████▍ | 258/306 [00:54<00:12,  3.72it/s]\n",
      " 85%|████████▍ | 259/306 [00:54<00:12,  3.87it/s]\n",
      " 85%|████████▍ | 260/306 [00:55<00:10,  4.58it/s]\n",
      " 86%|████████▌ | 262/306 [00:55<00:09,  4.79it/s]\n",
      " 86%|████████▌ | 263/306 [00:55<00:10,  4.25it/s]\n",
      " 86%|████████▋ | 264/306 [00:56<00:10,  4.02it/s]\n",
      " 87%|████████▋ | 265/306 [00:56<00:10,  3.87it/s]\n",
      " 87%|████████▋ | 266/306 [00:56<00:10,  3.84it/s]\n",
      " 87%|████████▋ | 267/306 [00:56<00:10,  3.89it/s]\n",
      " 88%|████████▊ | 268/306 [00:56<00:09,  4.15it/s]\n",
      " 88%|████████▊ | 269/306 [00:57<00:07,  4.85it/s]\n",
      " 89%|████████▊ | 271/306 [00:57<00:07,  4.99it/s]\n",
      " 89%|████████▉ | 272/306 [00:57<00:07,  4.36it/s]\n",
      " 89%|████████▉ | 273/306 [00:58<00:08,  4.09it/s]\n",
      " 90%|████████▉ | 274/306 [00:58<00:08,  3.91it/s]\n",
      " 90%|████████▉ | 275/306 [00:58<00:08,  3.87it/s]\n",
      " 90%|█████████ | 276/306 [00:58<00:07,  3.91it/s]\n",
      " 91%|█████████ | 277/306 [00:59<00:06,  4.17it/s]\n",
      " 91%|█████████ | 278/306 [00:59<00:05,  4.98it/s]\n",
      " 91%|█████████ | 279/306 [00:59<00:04,  5.77it/s]\n",
      " 92%|█████████▏| 280/306 [00:59<00:05,  4.76it/s]\n",
      " 92%|█████████▏| 281/306 [00:59<00:05,  4.32it/s]\n",
      " 92%|█████████▏| 282/306 [01:00<00:05,  4.06it/s]\n",
      " 92%|█████████▏| 283/306 [01:00<00:05,  3.90it/s]\n",
      " 93%|█████████▎| 284/306 [01:00<00:05,  3.86it/s]\n",
      " 93%|█████████▎| 285/306 [01:00<00:05,  3.90it/s]\n",
      " 93%|█████████▎| 286/306 [01:01<00:04,  4.16it/s]\n",
      " 94%|█████████▍| 287/306 [01:01<00:03,  4.98it/s]\n",
      " 94%|█████████▍| 288/306 [01:01<00:03,  5.77it/s]\n",
      " 94%|█████████▍| 289/306 [01:01<00:03,  4.75it/s]\n",
      " 95%|█████████▍| 290/306 [01:01<00:03,  4.32it/s]\n",
      " 95%|█████████▌| 291/306 [01:02<00:03,  4.06it/s]\n",
      " 95%|█████████▌| 292/306 [01:02<00:03,  3.90it/s]\n",
      " 96%|█████████▌| 293/306 [01:02<00:03,  3.86it/s]\n",
      " 96%|█████████▌| 294/306 [01:03<00:03,  3.90it/s]\n",
      " 96%|█████████▋| 295/306 [01:03<00:02,  4.16it/s]\n",
      " 97%|█████████▋| 296/306 [01:03<00:02,  4.86it/s]\n",
      " 97%|█████████▋| 298/306 [01:03<00:01,  5.00it/s]\n",
      " 98%|█████████▊| 299/306 [01:04<00:01,  4.37it/s]\n",
      " 98%|█████████▊| 300/306 [01:04<00:01,  4.09it/s]\n",
      " 98%|█████████▊| 301/306 [01:04<00:01,  3.92it/s]\n",
      " 99%|█████████▊| 302/306 [01:04<00:01,  3.87it/s]\n",
      " 99%|█████████▉| 303/306 [01:05<00:00,  3.91it/s]\n",
      " 99%|█████████▉| 304/306 [01:05<00:00,  4.17it/s]\n",
      "100%|█████████▉| 305/306 [01:05<00:00,  4.87it/s]\n",
      "100%|██████████| 306/306 [01:05<00:00,  4.67it/s]"
     ]
    },
    {
     "name": "stdout",
     "output_type": "stream",
     "text": [
      "Primi 5:\n"
     ]
    },
    {
     "data": {
      "text/html": [
       "<div>\n",
       "<style scoped>\n",
       "    .dataframe tbody tr th:only-of-type {\n",
       "        vertical-align: middle;\n",
       "    }\n",
       "\n",
       "    .dataframe tbody tr th {\n",
       "        vertical-align: top;\n",
       "    }\n",
       "\n",
       "    .dataframe thead th {\n",
       "        text-align: right;\n",
       "    }\n",
       "</style>\n",
       "<table border=\"1\" class=\"dataframe\">\n",
       "  <thead>\n",
       "    <tr style=\"text-align: right;\">\n",
       "      <th></th>\n",
       "      <th>accuracy_score</th>\n",
       "      <th>max_depth</th>\n",
       "      <th>min_samples_leaf</th>\n",
       "    </tr>\n",
       "  </thead>\n",
       "  <tbody>\n",
       "    <tr>\n",
       "      <th>0</th>\n",
       "      <td>0.986667</td>\n",
       "      <td>32</td>\n",
       "      <td>1</td>\n",
       "    </tr>\n",
       "    <tr>\n",
       "      <th>1</th>\n",
       "      <td>0.986667</td>\n",
       "      <td>34</td>\n",
       "      <td>1</td>\n",
       "    </tr>\n",
       "    <tr>\n",
       "      <th>2</th>\n",
       "      <td>0.983333</td>\n",
       "      <td>29</td>\n",
       "      <td>1</td>\n",
       "    </tr>\n",
       "    <tr>\n",
       "      <th>3</th>\n",
       "      <td>0.980000</td>\n",
       "      <td>30</td>\n",
       "      <td>1</td>\n",
       "    </tr>\n",
       "    <tr>\n",
       "      <th>4</th>\n",
       "      <td>0.980000</td>\n",
       "      <td>31</td>\n",
       "      <td>1</td>\n",
       "    </tr>\n",
       "  </tbody>\n",
       "</table>\n",
       "</div>"
      ],
      "text/plain": [
       "   accuracy_score  max_depth  min_samples_leaf\n",
       "0        0.986667         32                 1\n",
       "1        0.986667         34                 1\n",
       "2        0.983333         29                 1\n",
       "3        0.980000         30                 1\n",
       "4        0.980000         31                 1"
      ]
     },
     "metadata": {},
     "output_type": "display_data"
    },
    {
     "name": "stdout",
     "output_type": "stream",
     "text": [
      "Ultimi 5:\n"
     ]
    },
    {
     "data": {
      "text/html": [
       "<div>\n",
       "<style scoped>\n",
       "    .dataframe tbody tr th:only-of-type {\n",
       "        vertical-align: middle;\n",
       "    }\n",
       "\n",
       "    .dataframe tbody tr th {\n",
       "        vertical-align: top;\n",
       "    }\n",
       "\n",
       "    .dataframe thead th {\n",
       "        text-align: right;\n",
       "    }\n",
       "</style>\n",
       "<table border=\"1\" class=\"dataframe\">\n",
       "  <thead>\n",
       "    <tr style=\"text-align: right;\">\n",
       "      <th></th>\n",
       "      <th>accuracy_score</th>\n",
       "      <th>max_depth</th>\n",
       "      <th>min_samples_leaf</th>\n",
       "    </tr>\n",
       "  </thead>\n",
       "  <tbody>\n",
       "    <tr>\n",
       "      <th>301</th>\n",
       "      <td>0.205</td>\n",
       "      <td>1</td>\n",
       "      <td>4</td>\n",
       "    </tr>\n",
       "    <tr>\n",
       "      <th>302</th>\n",
       "      <td>0.205</td>\n",
       "      <td>1</td>\n",
       "      <td>8</td>\n",
       "    </tr>\n",
       "    <tr>\n",
       "      <th>303</th>\n",
       "      <td>0.205</td>\n",
       "      <td>1</td>\n",
       "      <td>16</td>\n",
       "    </tr>\n",
       "    <tr>\n",
       "      <th>304</th>\n",
       "      <td>0.205</td>\n",
       "      <td>1</td>\n",
       "      <td>32</td>\n",
       "    </tr>\n",
       "    <tr>\n",
       "      <th>305</th>\n",
       "      <td>0.205</td>\n",
       "      <td>1</td>\n",
       "      <td>64</td>\n",
       "    </tr>\n",
       "  </tbody>\n",
       "</table>\n",
       "</div>"
      ],
      "text/plain": [
       "     accuracy_score  max_depth  min_samples_leaf\n",
       "301           0.205          1                 4\n",
       "302           0.205          1                 8\n",
       "303           0.205          1                16\n",
       "304           0.205          1                32\n",
       "305           0.205          1                64"
      ]
     },
     "execution_count": 75,
     "metadata": {},
     "output_type": "execute_result"
    }
   ],
   "source": [
    "risultati = []\n",
    "for params in tqdm.tqdm(param_grid):\n",
    "    tfc = DecisionTreeClassifier(random_state=0, **params).fit(tf_train.toarray(), train_cats)\n",
    "    y_pred = tfc.predict(tf_val.toarray())\n",
    "    params[\"accuracy_score\"] = metrics.accuracy_score(val_cats, y_pred)\n",
    "    risultati.append(params)\n",
    "\n",
    "risultati = pd.DataFrame(risultati).sort_values([\"accuracy_score\", \"max_depth\"], ascending=[False, True])\n",
    "risultati.reset_index(drop=True, inplace=True)\n",
    "print(\"Primi 5:\")\n",
    "display(risultati.head())\n",
    "\n",
    "print(\"Ultimi 5:\")\n",
    "risultati.tail()"
   ]
  },
  {
   "cell_type": "code",
   "execution_count": null,
   "metadata": {},
   "outputs": [],
   "source": []
  },
  {
   "cell_type": "code",
   "execution_count": null,
   "metadata": {},
   "outputs": [],
   "source": []
  }
 ],
 "metadata": {
  "kernelspec": {
   "display_name": "Python 3",
   "language": "python",
   "name": "python3"
  },
  "language_info": {
   "codemirror_mode": {
    "name": "ipython",
    "version": 3
   },
   "file_extension": ".py",
   "mimetype": "text/x-python",
   "name": "python",
   "nbconvert_exporter": "python",
   "pygments_lexer": "ipython3",
   "version": "3.6.5"
  }
 },
 "nbformat": 4,
 "nbformat_minor": 2
}
