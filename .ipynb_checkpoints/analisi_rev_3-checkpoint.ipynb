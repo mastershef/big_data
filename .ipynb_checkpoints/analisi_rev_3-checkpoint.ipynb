{
 "cells": [
  {
   "cell_type": "code",
   "execution_count": 1,
   "metadata": {},
   "outputs": [],
   "source": [
    "# -------------------------------------------------------------------------------------------------- #\n",
    "# Importare moduli interi\n",
    "import numpy as np\n",
    "import pandas as pd\n",
    "import nltk\n",
    "import re\n",
    "import tqdm\n",
    "import sys\n",
    "import json\n",
    "\n",
    "# importare parti di moduli\n",
    "from numpy import linalg\n",
    "from numpy.linalg import norm\n",
    "from scipy.spatial.distance import squareform, pdist\n",
    "\n",
    "from os import listdir\n",
    "from os.path import isfile, join\n",
    "\n",
    "from string import punctuation\n",
    "\n",
    "from sklearn.feature_extraction.text import CountVectorizer,TfidfVectorizer\n",
    "from sklearn.decomposition import LatentDirichletAllocation\n",
    "from sklearn.model_selection import train_test_split\n",
    "from sklearn import linear_model,metrics\n",
    "# Importing TSNE.\n",
    "from sklearn.manifold import TSNE\n",
    "from sklearn.datasets import load_digits\n",
    "from sklearn.preprocessing import scale\n",
    "from sklearn.metrics.pairwise import pairwise_distances\n",
    "from sklearn.manifold.t_sne import (_joint_probabilities,_kl_divergence)\n",
    "from sklearn.metrics import confusion_matrix\n",
    "from sklearn.utils.multiclass import unique_labels\n",
    "#from sklearn.utils.extmath import _ravel\n",
    "# Random state we define this random state to use this value in TSNE which is a randmized algo.\n",
    "RS = 25111993\n",
    "\n",
    "from nltk.corpus import stopwords\n",
    "from nltk.stem.snowball import SnowballStemmer\n",
    "from nltk.tokenize import TweetTokenizer\n",
    "\n",
    "from bs4 import BeautifulSoup\n",
    "\n",
    "from itertools import product\n",
    "\n",
    "# Importing for graphics and plots.\n",
    "import matplotlib.pyplot as plt\n",
    "import matplotlib.patheffects as PathEffects\n",
    "import matplotlib\n",
    "%matplotlib inline\n",
    "\n",
    "import seaborn as sns\n",
    "sns.set_style('darkgrid')\n",
    "sns.set_palette('muted')\n",
    "sns.set_context(\"notebook\", font_scale=1.5,\n",
    "rc={\"lines.linewidth\": 2.5})\n",
    "\n",
    "import bokeh.plotting as bp\n",
    "from bokeh.models import HoverTool\n",
    "from bokeh.plotting import save"
   ]
  },
  {
   "cell_type": "code",
   "execution_count": 2,
   "metadata": {},
   "outputs": [],
   "source": [
    "###FUNZIONI NECESSARIE PER ESTRAZIONE DATI DAGLI ARTICOLI PER POI CREARE LA TERM DOCUMENT MATRIX\n",
    "# ------------------------------------------------------------------------------------------------- #\n",
    "# prende in input un'articolo e esegue delle modifiche ai campi di interesse utilizzando funzioni e oggetti passati come parametri\n",
    "def news_analyzer(news, tokenizer, stemmer, stop_words=[]):\n",
    "    campi_interesse = ['testo','titolo_articolo','sottotitolo']\n",
    "    \n",
    "    for campo in campi_interesse:\n",
    "        news[campo] = BeautifulSoup(news[campo], \"lxml\").get_text()                                 # rimozione tag html\n",
    "        news[campo] = news[campo].replace(\"'\",\" \")                                                  # rimossi apostrofi\n",
    "        news[campo] = re.sub(\"http\\S+\", \" link \", news[campo])                                      # rimossi link\n",
    "        news[campo] = tokenizer.tokenize(news[campo])                                               # campi tokenizzati\n",
    "        news[campo] = [token for token in news[campo] if not token.isdigit() and token not in stop_words]# tokenizzazione e rimozione delle stopwords\n",
    "        news[campo] = [stemmer.stem(token) for token in news[campo] if not token.isdigit() and token not in stop_words]# stemming\n",
    "\n",
    "    return news                                                                                     #ritorna l'articolo processato\n",
    "\n",
    "# ------------------------------------------------------------------------------------------------- #\n",
    "# effettua il preprocessamento di tutti gli articoli dell'insieme di trainig\n",
    "def preproc(X):\n",
    "    nltk.download(\"stopwords\")\n",
    "    stop_words = stopwords.words('italian') + list(punctuation)\n",
    "    stemmer = SnowballStemmer(\"italian\")\n",
    "    tokenizer = TweetTokenizer(preserve_case=False,strip_handles=True)\n",
    "    return [news_analyzer(news, tokenizer, stemmer, stop_words) for news in tqdm.tqdm(X)]\n",
    "\n",
    "# ------------------------------------------------------------------------------------------------- #\n",
    "# ottieni gli articoli\n",
    "def get_news(news_dir):\n",
    "    data = []\n",
    "    onlyfiles = [f for f in listdir(news_dir) if isfile(join(news_dir, f))]\n",
    "    for articolo in onlyfiles:\n",
    "        docJson = open(news_dir+articolo,\"r\")\n",
    "        jsonData = json.loads(docJson.read())\n",
    "        data.append(jsonData)\n",
    "        docJson.close()\n",
    "    return data\n",
    "\n",
    "# ------------------------------------------------------------------------------------------------- #\n",
    "\n",
    "def display_topics(model, feature_names, no_top_words):\n",
    "    for topic_idx, topic in enumerate(model.components_):\n",
    "        print(\"Topic %d:\" % (topic_idx))\n",
    "        print(\" \".join([feature_names[i] for i in topic.argsort()[:-no_top_words - 1:-1]]))\n",
    "\n",
    "# ------------------------------------------------------------------------------------------------- #\n",
    "def distribuzione_frequenze(docs,y):\n",
    "    no_features = 10000\n",
    "    vectorizer = CountVectorizer(ngram_range=(1,3),max_df=0.9,min_df=6, max_features=no_features, lowercase=False, binary=True, encoding='utf-8')\n",
    "    tf = vectorizer.fit_transform(docs)\n",
    "    tdf = np.sum(tf.toarray(), axis=0)\n",
    "    df ={}\n",
    "    for i in tdf:\n",
    "        if i in df:\n",
    "            df[i] += 1\n",
    "        else:\n",
    "            df[i] = 1\n",
    "    freqs = []\n",
    "    for item in sorted(df.keys()):\n",
    "        freqs +=([item]*df[item])\n",
    "    dfdf = pd.DataFrame(freqs,columns=[\"df\"])\n",
    "    plt.figure(num=1,figsize=(18, 10))\n",
    "    sns.countplot(x=\"df\", data = dfdf)\n",
    "\n",
    "# ------------------------------------------------------------------------------------------------- #\n",
    "def train_model(classifier, train_features, train_cats, test_features, test_cats):\n",
    "    # fit the training dataset on the classifier\n",
    "    classifier.fit(train_features, train_cats)\n",
    "    \n",
    "    # predire le categorie sull'insieme di test\n",
    "    pred_cats = classifier.predict(test_features)\n",
    "\n",
    "    classi = unique_labels(test_cats, pred_cats)\n",
    "    #plt.title(\"Matrice di confusione\")\n",
    "    cm = confusion_matrix(test_cats, pred_cats)\n",
    "    # se vogliamo normallizare la matrice, dividendo per riga\n",
    "    #cm = cm.astype('float') / cm.sum(axis=1)[:, np.newaxis]\n",
    "    #print(\"Normalized confusion matrix\")\n",
    "    #print(cm)\n",
    "    #da notare poi bisognerebbe cambiare il \"formato\" dei numeri che appaiono in float\n",
    "    \n",
    "    plt.imshow(cm, interpolation='nearest', cmap=plt.cm.Blues)\n",
    "    plt.colorbar(fraction=0.04, pad=0.1)#spazi occupati dalla barra a destra\n",
    "    #labels\n",
    "    \n",
    "    tick_marks = range(len(classi))\n",
    "    plt.xticks(tick_marks, classi, rotation=90)\n",
    "    plt.yticks(tick_marks, classi)\n",
    "    \n",
    "    plt.grid(None)\n",
    "    \n",
    "    thresh = cm.max() / 2\n",
    "    #colore dei numeri dentro i quadrati\n",
    "    for i, j in product(range(cm.shape[0]), range(cm.shape[1])):\n",
    "        plt.text(j, i, format(cm[i, j], 'd'), horizontalalignment=\"center\", color=\"white\" if cm[i, j] > thresh else \"black\")\n",
    "    plt.ylabel(\"Classe osservata\")\n",
    "    plt.xlabel(\"Classe prevista\")\n",
    "    \n",
    "    return metrics.accuracy_score(pred_cats, test_cats)\n",
    "\n",
    "# ------------------------------------------------------------------------------------------------- #    \n",
    "# An user defined function to create scatter plot of vectors\n",
    "def scatter(x, colors):\n",
    "    # We choose a color palette with seaborn.\n",
    "    palette = np.array(sns.color_palette(\"hls\", 8))\n",
    "\n",
    "    # We create a scatter plot.\n",
    "    f = plt.figure(figsize=(32, 32))\n",
    "    ax = plt.subplot(aspect='equal')\n",
    "    sc = ax.scatter(x[:,0], x[:,1], lw=0, s=120,\n",
    "                    c=palette[colors.astype(np.int)])\n",
    "    #plt.xlim(-25, 25)\n",
    "    #plt.ylim(-25, 25)\n",
    "    ax.axis('off')\n",
    "    ax.axis('tight')\n",
    "\n",
    "    # We add the labels for each cluster.\n",
    "    txts = []\n",
    "    for i in range(18):\n",
    "        # Position of each label.\n",
    "        xtext, ytext = np.median(x[colors == i, :], axis=0)\n",
    "        txt = ax.text(xtext, ytext, str(i), fontsize=50)\n",
    "        txt.set_path_effects([\n",
    "            PathEffects.Stroke(linewidth=5, foreground=\"w\"),\n",
    "            PathEffects.Normal()])\n",
    "        txts.append(txt)\n",
    "\n",
    "    return f, ax, sc, txts\n"
   ]
  },
  {
   "cell_type": "code",
   "execution_count": 4,
   "metadata": {},
   "outputs": [
    {
     "name": "stderr",
     "output_type": "stream",
     "text": [
      "[nltk_data] Downloading package stopwords to\n",
      "[nltk_data]     C:\\Users\\Cristy\\AppData\\Roaming\\nltk_data...\n",
      "[nltk_data]   Package stopwords is already up-to-date!\n",
      "100%|██████████| 799/799 [00:04<00:00, 177.94it/s]\n"
     ]
    }
   ],
   "source": [
    "economia = get_news(\"./articoli_economia/\")\n",
    "cultura = get_news(\"./articoli_cultura/\")\n",
    "tech = get_news(\"./articoli_tech/\")\n",
    "politica = get_news(\"./articoli_politica/\")\n",
    "for articolo in economia:\n",
    "    articolo['categoria'] = \"Economia\"\n",
    "for articolo in cultura:\n",
    "    articolo['categoria'] = \"Cultura\"\n",
    "for articolo in tech:\n",
    "    articolo['categoria'] = \"Tech\"\n",
    "for articolo in politica:\n",
    "    articolo['categoria'] = \"Politica\"\n",
    "dati_preprocessati =  preproc(tech + politica + cultura + economia)"
   ]
  },
  {
   "cell_type": "code",
   "execution_count": 5,
   "metadata": {},
   "outputs": [],
   "source": [
    "seed = 2\n",
    "train_documents,test_documents = train_test_split(dati_preprocessati,random_state=seed)"
   ]
  },
  {
   "cell_type": "code",
   "execution_count": 6,
   "metadata": {},
   "outputs": [
    {
     "data": {
      "image/png": "[encoded data removed]",
      "text/plain": [
       "<Figure size 1296x720 with 1 Axes>"
      ]
     },
     "metadata": {
      "needs_background": "light"
     },
     "output_type": "display_data"
    }
   ],
   "source": [
    "#####Costruisci la term document matrix e poi cerca\n",
    "docs_texts = [' '.join([word for word in x['testo']] + x['tags'] + x['sottotitolo'] + x['titolo_articolo']) for x in dati_preprocessati]\n",
    "train_texts = [' '.join([word for word in x['testo']] + x['sottotitolo'] + x['titolo_articolo']) for x in train_documents]\n",
    "test_texts = [' '.join([word for word in x['testo']] + x['sottotitolo'] + x['titolo_articolo']) for x in test_documents]\n",
    "\n",
    "docs_cats = [x[\"categoria\"] for x in dati_preprocessati]\n",
    "train_cats = [x[\"categoria\"] for x in train_documents]\n",
    "test_cats = [x[\"categoria\"] for x in test_documents]\n",
    "\n",
    "no_features = 300000\n",
    "tf_vectorizer = CountVectorizer(ngram_range=(1,3), min_df=6,max_df=0.9,encoding='utf-8',max_features=no_features, lowercase=True).fit(docs_texts)\n",
    "train_tf = tf_vectorizer.transform(train_texts)\n",
    "test_tf = tf_vectorizer.transform(test_texts)\n",
    "tot_tf = tf_vectorizer.transform(docs_texts)\n",
    "\n",
    "distribuzione_frequenze(train_texts,\"train\")\n",
    "distribuzione_frequenze(test_texts,\"test\")"
   ]
  },
  {
   "cell_type": "code",
   "execution_count": 7,
   "metadata": {},
   "outputs": [
    {
     "ename": "NameError",
     "evalue": "name 'df' is not defined",
     "output_type": "error",
     "traceback": [
      "\u001b[1;31m---------------------------------------------------------------------------\u001b[0m",
      "\u001b[1;31mNameError\u001b[0m                                 Traceback (most recent call last)",
      "\u001b[1;32m<ipython-input-7-c244bc3e95d5>\u001b[0m in \u001b[0;36m<module>\u001b[1;34m\u001b[0m\n\u001b[0;32m      1\u001b[0m \u001b[1;31m# df = pd.DataFrame(tot_tf.toarray().transpose(), index = tf_vectorizer.get_feature_names())\u001b[0m\u001b[1;33m\u001b[0m\u001b[1;33m\u001b[0m\u001b[1;33m\u001b[0m\u001b[0m\n\u001b[1;32m----> 2\u001b[1;33m \u001b[0mprint\u001b[0m\u001b[1;33m(\u001b[0m\u001b[0mdf\u001b[0m\u001b[1;33m.\u001b[0m\u001b[0mshape\u001b[0m\u001b[1;33m)\u001b[0m\u001b[1;33m\u001b[0m\u001b[1;33m\u001b[0m\u001b[0m\n\u001b[0m\u001b[0;32m      3\u001b[0m \u001b[0mprint\u001b[0m\u001b[1;33m(\u001b[0m\u001b[0mlen\u001b[0m\u001b[1;33m(\u001b[0m\u001b[0mdocs_texts\u001b[0m\u001b[1;33m)\u001b[0m\u001b[1;33m)\u001b[0m\u001b[1;33m\u001b[0m\u001b[1;33m\u001b[0m\u001b[0m\n",
      "\u001b[1;31mNameError\u001b[0m: name 'df' is not defined"
     ]
    }
   ],
   "source": [
    "# df = pd.DataFrame(tot_tf.toarray().transpose(), index = tf_vectorizer.get_feature_names())\n",
    "print(df.shape)\n",
    "print(len(docs_texts))\n"
   ]
  },
  {
   "cell_type": "code",
   "execution_count": 8,
   "metadata": {},
   "outputs": [],
   "source": [
    "###Creamo i cluster con LDA\n",
    "\n",
    "no_topics = 16\n",
    "# Run LDA\n",
    "lda = LatentDirichletAllocation(n_components=no_topics,max_iter=100, learning_method='online',random_state=0).fit(train_tf)"
   ]
  },
  {
   "cell_type": "code",
   "execution_count": 9,
   "metadata": {},
   "outputs": [
    {
     "data": {
      "text/plain": [
       "(565, 16)"
      ]
     },
     "execution_count": 9,
     "metadata": {},
     "output_type": "execute_result"
    }
   ],
   "source": [
    "X_train = lda.transform(train_tf)\n",
    "#Correction\n",
    "threshold = 0.1\n",
    "_idx = np.amax(X_train, axis=1) > threshold  # idx of doc that above the threshold\n",
    "X_train = X_train[_idx]\n",
    "X_train.shape"
   ]
  },
  {
   "cell_type": "code",
   "execution_count": 10,
   "metadata": {},
   "outputs": [],
   "source": [
    "# Fit the model using t-SNE randomized algorithm\n",
    "tsne_model = TSNE(n_components=2, verbose=1, random_state=0, init='pca')"
   ]
  },
  {
   "cell_type": "code",
   "execution_count": 11,
   "metadata": {},
   "outputs": [
    {
     "name": "stdout",
     "output_type": "stream",
     "text": [
      "[t-SNE] Computing 91 nearest neighbors...\n",
      "[t-SNE] Indexed 565 samples in 0.000s...\n",
      "[t-SNE] Computed neighbors for 565 samples in 0.030s...\n",
      "[t-SNE] Computed conditional probabilities for sample 565 / 565\n",
      "[t-SNE] Mean sigma: 0.005501\n",
      "[t-SNE] KL divergence after 250 iterations with early exaggeration: 57.732117\n",
      "[t-SNE] KL divergence after 1000 iterations: -0.041723\n"
     ]
    }
   ],
   "source": [
    "# N-D -> 2-D\n",
    "tsne_lda = tsne_model.fit_transform(X_train)"
   ]
  },
  {
   "cell_type": "code",
   "execution_count": 12,
   "metadata": {},
   "outputs": [
    {
     "data": {
      "text/plain": [
       "565"
      ]
     },
     "execution_count": 12,
     "metadata": {},
     "output_type": "execute_result"
    }
   ],
   "source": [
    "_topics = X_train\n",
    "len(_topics)"
   ]
  },
  {
   "cell_type": "code",
   "execution_count": 13,
   "metadata": {},
   "outputs": [],
   "source": [
    "# 20 colors\n",
    "colormap = np.array([\n",
    "    \"#1f77b4\", \"#bbc7e8\", \"#cc7f0e\", \"#ddbb78\"\n",
    "])"
   ]
  },
  {
   "cell_type": "code",
   "execution_count": 14,
   "metadata": {},
   "outputs": [
    {
     "data": {
      "text/plain": [
       "565"
      ]
     },
     "execution_count": 14,
     "metadata": {},
     "output_type": "execute_result"
    }
   ],
   "source": [
    "#Then we find the most likely topic for each news:\n",
    "_lda_keys = []\n",
    "for i in range(X_train.shape[0]):\n",
    "  _lda_keys +=  _topics[i].argmax(),\n",
    "\n",
    "len(_lda_keys)\n"
   ]
  },
  {
   "cell_type": "code",
   "execution_count": 15,
   "metadata": {},
   "outputs": [],
   "source": [
    "#and get top words for each topic:\n",
    "n_top_words = 5\n",
    "topic_summaries = []\n",
    "topic_word = lda.components_  # all topic words\n",
    "vocab = tf_vectorizer.get_feature_names()\n",
    "for i, topic_dist in enumerate(topic_word):\n",
    "  topic_words = np.array(vocab)[np.argsort(topic_dist)][:-(n_top_words + 1):-1] # get!\n",
    "  topic_summaries.append(' '.join(topic_words)) # append!\n"
   ]
  },
  {
   "cell_type": "code",
   "execution_count": 16,
   "metadata": {},
   "outputs": [
    {
     "ename": "IndexError",
     "evalue": "index 2 is out of bounds for axis 1 with size 2",
     "output_type": "error",
     "traceback": [
      "\u001b[1;31m---------------------------------------------------------------------------\u001b[0m",
      "\u001b[1;31mIndexError\u001b[0m                                Traceback (most recent call last)",
      "\u001b[1;32m<ipython-input-16-1d4f5c8de0c8>\u001b[0m in \u001b[0;36m<module>\u001b[1;34m\u001b[0m\n\u001b[0;32m      9\u001b[0m     \u001b[0mx\u001b[0m\u001b[1;33m=\u001b[0m\u001b[0mtsne_lda\u001b[0m\u001b[1;33m[\u001b[0m\u001b[1;36m0\u001b[0m\u001b[1;33m:\u001b[0m\u001b[1;36m199\u001b[0m\u001b[1;33m,\u001b[0m \u001b[1;36m0\u001b[0m\u001b[1;33m]\u001b[0m\u001b[1;33m,\u001b[0m\u001b[1;33m\u001b[0m\u001b[1;33m\u001b[0m\u001b[0m\n\u001b[0;32m     10\u001b[0m     \u001b[0my\u001b[0m\u001b[1;33m=\u001b[0m\u001b[0mtsne_lda\u001b[0m\u001b[1;33m[\u001b[0m\u001b[1;36m0\u001b[0m\u001b[1;33m:\u001b[0m\u001b[1;36m199\u001b[0m\u001b[1;33m,\u001b[0m \u001b[1;36m1\u001b[0m\u001b[1;33m]\u001b[0m\u001b[1;33m,\u001b[0m\u001b[1;33m\u001b[0m\u001b[1;33m\u001b[0m\u001b[0m\n\u001b[1;32m---> 11\u001b[1;33m     \u001b[0mz\u001b[0m\u001b[1;33m=\u001b[0m\u001b[0mtsne_lda\u001b[0m\u001b[1;33m[\u001b[0m\u001b[1;36m0\u001b[0m\u001b[1;33m:\u001b[0m\u001b[1;36m199\u001b[0m\u001b[1;33m,\u001b[0m \u001b[1;36m2\u001b[0m\u001b[1;33m]\u001b[0m\u001b[1;33m,\u001b[0m\u001b[1;33m\u001b[0m\u001b[1;33m\u001b[0m\u001b[0m\n\u001b[0m\u001b[0;32m     12\u001b[0m     \u001b[0mmarker\u001b[0m\u001b[1;33m=\u001b[0m\u001b[0mMarker\u001b[0m\u001b[1;33m(\u001b[0m\u001b[0mcolor\u001b[0m\u001b[1;33m=\u001b[0m\u001b[0mcolormap\u001b[0m\u001b[1;33m[\u001b[0m\u001b[1;36m0\u001b[0m\u001b[1;33m]\u001b[0m\u001b[1;33m,\u001b[0m \u001b[0mcolorscale\u001b[0m\u001b[1;33m=\u001b[0m\u001b[1;34m'Portland'\u001b[0m\u001b[1;33m)\u001b[0m\u001b[1;33m,\u001b[0m\u001b[1;33m\u001b[0m\u001b[1;33m\u001b[0m\u001b[0m\n\u001b[0;32m     13\u001b[0m     \u001b[0mmode\u001b[0m\u001b[1;33m=\u001b[0m\u001b[1;34m'markers'\u001b[0m\u001b[1;33m\u001b[0m\u001b[1;33m\u001b[0m\u001b[0m\n",
      "\u001b[1;31mIndexError\u001b[0m: index 2 is out of bounds for axis 1 with size 2"
     ]
    }
   ],
   "source": [
    "from plotly.plotly import iplot\n",
    "import plotly as pl\n",
    "from plotly.graph_objs import Scatter3d, Data, Marker\n",
    "\n",
    "# First three dimensions from reduced X VS the Y\n",
    "walkers = []\n",
    "\n",
    "trace0 = Scatter3d(\n",
    "    x=tsne_lda[0:199, 0],\n",
    "    y=tsne_lda[0:199, 1],\n",
    "    z=tsne_lda[0:199, 2], \n",
    "    marker=Marker(color=colormap[0], colorscale='Portland'),\n",
    "    mode='markers'\n",
    ")\n",
    "\n",
    "trace1 = Scatter3d(\n",
    "    x=tsne_lda[200:399, 0],\n",
    "    y=tsne_lda[200:399, 1],\n",
    "    z=tsne_lda[200:399, 2], \n",
    "    marker=Marker(color=colormap[1], colorscale='Portland'),\n",
    "    mode='markers'\n",
    ")\n",
    "\n",
    "trace2 = Scatter3d(\n",
    "    x=tsne_lda[400:599, 0],\n",
    "    y=tsne_lda[400:599, 1],\n",
    "    z=tsne_lda[400:599, 2], \n",
    "    marker=Marker(color=colormap[2], colorscale='Portland'),\n",
    "    mode='markers'\n",
    ")\n",
    "\n",
    "trace3 = Scatter3d(\n",
    "    x=tsne_lda[600:799, 0],\n",
    "    y=tsne_lda[600:799, 1],\n",
    "    z=tsne_lda[600:799, 2], \n",
    "    marker=Marker(color=colormap[3], colorscale='Portland'),\n",
    "    mode='markers'\n",
    ")\n",
    "\n",
    "walkers.append(trace0)\n",
    "walkers.append(trace1)\n",
    "walkers.append(trace2)\n",
    "walkers.append(trace3)\n",
    "\n",
    "data = Data(walkers) \n",
    "pl.tools.set_credentials_file(username='cristi.gutzu', api_key='S4SFAPdXM3dUxDF0wmxT')\n",
    "iplot(data, filename = 'pca-cloud')\n"
   ]
  },
  {
   "cell_type": "code",
   "execution_count": 17,
   "metadata": {},
   "outputs": [
    {
     "name": "stdout",
     "output_type": "stream",
     "text": [
      "565\n"
     ]
    },
    {
     "name": "stderr",
     "output_type": "stream",
     "text": [
      "C:\\Users\\Cristy\\Anaconda3\\lib\\site-packages\\bokeh\\models\\sources.py:163: BokehUserWarning:\n",
      "\n",
      "ColumnDataSource's columns must be of the same length. Current lengths: ('content', 599), ('topic_key', 599), ('x', 565), ('y', 565)\n",
      "\n"
     ]
    },
    {
     "data": {
      "text/plain": [
       "['Economia', 'Cultura', 'Politica', 'Tech']"
      ]
     },
     "execution_count": 17,
     "metadata": {},
     "output_type": "execute_result"
    }
   ],
   "source": [
    "## title = '1024 articoli ANSA'\n",
    "from bokeh.plotting import figure \n",
    "from bokeh.transform import factor_cmap\n",
    "from bokeh.io import output_notebook, show\n",
    "\n",
    "print(len(tsne_lda[:,0]))\n",
    "\n",
    "testi = [x['testo'] for x in dati_preprocessati]\n",
    "data = { 'x' : tsne_lda[:,0],\n",
    "         'y' :  tsne_lda[:,1],\n",
    "        'content': train_cats, \n",
    "        'topic_key': [str(x) for x in train_cats]}\n",
    " \n",
    "source = bp.ColumnDataSource(data)\n",
    "\n",
    "p = figure(plot_width=1100, plot_height=1100, tooltips=\"content: @content - topic: @topic_key\")\n",
    "index_cmap=factor_cmap('topic_key', palette=colormap, factors=list(set([str(x) for x in train_cats])) )\n",
    "p.circle('x', 'y', size=10, source=source, fill_color=index_cmap)\n",
    "\n",
    "\n",
    "show(p)\n",
    "list(set([str(x) for x in train_cats]))\n"
   ]
  },
  {
   "cell_type": "code",
   "execution_count": 18,
   "metadata": {},
   "outputs": [
    {
     "ename": "IndexError",
     "evalue": "list index out of range",
     "output_type": "error",
     "traceback": [
      "\u001b[1;31m---------------------------------------------------------------------------\u001b[0m",
      "\u001b[1;31mIndexError\u001b[0m                                Traceback (most recent call last)",
      "\u001b[1;32m<ipython-input-18-96176692ca78>\u001b[0m in \u001b[0;36m<module>\u001b[1;34m\u001b[0m\n\u001b[0;32m      6\u001b[0m \u001b[0mi\u001b[0m\u001b[1;33m=\u001b[0m\u001b[1;36m0\u001b[0m\u001b[1;33m\u001b[0m\u001b[1;33m\u001b[0m\u001b[0m\n\u001b[0;32m      7\u001b[0m \u001b[1;32mfor\u001b[0m \u001b[0midex\u001b[0m\u001b[1;33m,\u001b[0m \u001b[0mdoc\u001b[0m \u001b[1;32min\u001b[0m \u001b[0menumerate\u001b[0m\u001b[1;33m(\u001b[0m\u001b[0mtrain_documents\u001b[0m\u001b[1;33m)\u001b[0m\u001b[1;33m:\u001b[0m\u001b[1;33m\u001b[0m\u001b[1;33m\u001b[0m\u001b[0m\n\u001b[1;32m----> 8\u001b[1;33m     \u001b[0mtopic\u001b[0m \u001b[1;33m=\u001b[0m \u001b[1;33m(\u001b[0m\u001b[0m_lda_keys\u001b[0m\u001b[1;33m[\u001b[0m\u001b[0mi\u001b[0m\u001b[1;33m]\u001b[0m\u001b[1;33m)\u001b[0m\u001b[1;33m\u001b[0m\u001b[1;33m\u001b[0m\u001b[0m\n\u001b[0m\u001b[0;32m      9\u001b[0m     \u001b[0mdistr\u001b[0m\u001b[1;33m[\u001b[0m\u001b[0mdoc\u001b[0m\u001b[1;33m[\u001b[0m\u001b[1;34m'categoria'\u001b[0m\u001b[1;33m]\u001b[0m\u001b[1;33m]\u001b[0m\u001b[1;33m.\u001b[0m\u001b[0mappend\u001b[0m\u001b[1;33m(\u001b[0m\u001b[0mtopic\u001b[0m\u001b[1;33m)\u001b[0m\u001b[1;33m\u001b[0m\u001b[1;33m\u001b[0m\u001b[0m\n\u001b[0;32m     10\u001b[0m     \u001b[0mi\u001b[0m\u001b[1;33m=\u001b[0m\u001b[0mi\u001b[0m\u001b[1;33m+\u001b[0m\u001b[1;36m1\u001b[0m\u001b[1;33m\u001b[0m\u001b[1;33m\u001b[0m\u001b[0m\n",
      "\u001b[1;31mIndexError\u001b[0m: list index out of range"
     ]
    }
   ],
   "source": [
    "#Vogliamo un metodo per ottimizare il parametro del countVectorizer.\n",
    "#che e' ngarm range, questo parametro vive in N.\n",
    "\n",
    "from collections import Counter\n",
    "distr = {\"Tech\":[], \"Politica\":[], \"Economia\":[], \"Cultura\":[]}\n",
    "i=0\n",
    "for idex, doc in enumerate(train_documents):\n",
    "    topic = (_lda_keys[i])\n",
    "    distr[doc['categoria']].append(topic)\n",
    "    i=i+1\n",
    "def CountFrequency(my_list): \n",
    "  \n",
    "    # Creating an empty dictionary  \n",
    "    freq = {} \n",
    "    for item in my_list: \n",
    "        if (item in freq): \n",
    "            freq[item] += 1\n",
    "        else: \n",
    "            freq[item] = 1\n",
    "    lista = [item[1] for item in freq.items()]\n",
    "    for key, value in freq.items(): \n",
    "        print (\"% d : % d\"%(key, value)) \n",
    "        \n",
    "    return (max(lista)/sum(lista))\n",
    "    \n",
    "c1=CountFrequency(distr[\"Tech\"])\n",
    "print(\"#######\")\n",
    "c2=CountFrequency(distr[\"Economia\"])\n",
    "print(\"#######\")\n",
    "\n",
    "c3=CountFrequency(distr[\"Politica\"])\n",
    "print(\"#######\")\n",
    "\n",
    "c4=CountFrequency(distr[\"Cultura\"])\n",
    "\n",
    "indice = (c1+c2+c3+c4)/4\n",
    "print(indice)"
   ]
  },
  {
   "cell_type": "code",
   "execution_count": null,
   "metadata": {},
   "outputs": [],
   "source": [
    "\n",
    "\n",
    "# randomly choose a news (within a topic) coordinate as the crucial words coordinate\n",
    "topic_coord = np.empty((X_train.shape[1], 2)) * np.nan\n",
    "for topic_num in _lda_keys:\n",
    "  if not np.isnan(topic_coord).any():\n",
    "    break\n",
    "  topic_coord[topic_num] = tsne_lda[_lda_keys.index(topic_num)]\n",
    "\n",
    "# plot crucial words\n",
    "for i in range(X_train.shape[1]):\n",
    "  plot_lda.text(topic_coord[i, 0], topic_coord[i, 1], [topic_summaries[i]])\n",
    "\n",
    "# hover tools\n",
    "hover = plot_lda.select(dict(type=HoverTool))\n",
    "hover.tooltips = {\"content\": \"@content - topic: @topic_key\"}\n",
    "\n",
    "# save the plot\n",
    "save(plot_lda, '{}.html'.format(title))\n"
   ]
  },
  {
   "cell_type": "code",
   "execution_count": null,
   "metadata": {},
   "outputs": [],
   "source": [
    "#help(bp.ColumnDataSource)"
   ]
  },
  {
   "cell_type": "markdown",
   "metadata": {},
   "source": [
    "## Test con LDA"
   ]
  },
  {
   "cell_type": "code",
   "execution_count": null,
   "metadata": {},
   "outputs": [],
   "source": [
    "from sklearn.dummy import DummyClassifier\n",
    "from sklearn.discriminant_analysis import LinearDiscriminantAnalysis\n",
    "from sklearn.discriminant_analysis import QuadraticDiscriminantAnalysis\n",
    "from sklearn.tree import DecisionTreeClassifier\n",
    "from sklearn import linear_model,metrics\n",
    "\n",
    "X_train = lda.transform(train_tf)\n",
    "X_test = lda.transform(test_tf)"
   ]
  },
  {
   "cell_type": "code",
   "execution_count": null,
   "metadata": {},
   "outputs": [],
   "source": [
    "accuracy = train_model(DummyClassifier(\"most_frequent\"), X_train, train_cats, X_test, test_cats)\n",
    "print(accuracy)"
   ]
  },
  {
   "cell_type": "code",
   "execution_count": null,
   "metadata": {},
   "outputs": [],
   "source": [
    "accuracy = train_model(linear_model.LogisticRegression(random_state=0,solver='lbfgs',multi_class='multinomial'), X_train, train_cats, X_test, test_cats)\n",
    "print(accuracy)"
   ]
  },
  {
   "cell_type": "code",
   "execution_count": null,
   "metadata": {},
   "outputs": [],
   "source": [
    "accuracy = train_model(DecisionTreeClassifier(), X_train, train_cats, X_test, test_cats)#max_depth=50,min_samples_leaf=8\n",
    "print(accuracy)"
   ]
  },
  {
   "cell_type": "code",
   "execution_count": null,
   "metadata": {},
   "outputs": [],
   "source": [
    "accuracy = train_model(LinearDiscriminantAnalysis(), X_train, train_cats, X_test, test_cats)\n",
    "print(accuracy)"
   ]
  },
  {
   "cell_type": "markdown",
   "metadata": {},
   "source": [
    "## Test con modello senza LDA"
   ]
  },
  {
   "cell_type": "code",
   "execution_count": null,
   "metadata": {},
   "outputs": [],
   "source": [
    "accuracy = train_model(DummyClassifier(\"most_frequent\"), X_train, train_cats, X_test, test_cats)\n",
    "print(accuracy)"
   ]
  },
  {
   "cell_type": "code",
   "execution_count": null,
   "metadata": {},
   "outputs": [],
   "source": [
    "accuracy = train_model(linear_model.LogisticRegression(random_state=0,solver='lbfgs',multi_class='multinomial'), train_tf, train_cats, test_tf, test_cats)\n",
    "print(accuracy)"
   ]
  },
  {
   "cell_type": "code",
   "execution_count": null,
   "metadata": {},
   "outputs": [],
   "source": [
    "accuracy = train_model(DecisionTreeClassifier(), train_tf, train_cats, test_tf, test_cats)#max_depth=50,min_samples_leaf=8\n",
    "print(accuracy)"
   ]
  },
  {
   "cell_type": "code",
   "execution_count": null,
   "metadata": {},
   "outputs": [],
   "source": []
  }
 ],
 "metadata": {
  "kernelspec": {
   "display_name": "Python 3",
   "language": "python",
   "name": "python3"
  },
  "language_info": {
   "codemirror_mode": {
    "name": "ipython",
    "version": 3
   },
   "file_extension": ".py",
   "mimetype": "text/x-python",
   "name": "python",
   "nbconvert_exporter": "python",
   "pygments_lexer": "ipython3",
   "version": "3.7.3"
  }
 },
 "nbformat": 4,
 "nbformat_minor": 2
}
