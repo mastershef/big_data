{
 "cells": [
  {
   "cell_type": "code",
   "execution_count": 2,
   "metadata": {},
   "outputs": [],
   "source": [
    "# -------------------------------------------------------------------------------------------------- #\n",
    "# Importare moduli interi\n",
    "import numpy as np\n",
    "import pandas as pd\n",
    "import nltk\n",
    "import re\n",
    "import tqdm\n",
    "import sys\n",
    "import json\n",
    "\n",
    "# importare parti di moduli\n",
    "from numpy import linalg\n",
    "from numpy.linalg import norm\n",
    "from scipy.spatial.distance import squareform, pdist\n",
    "\n",
    "from os import listdir\n",
    "from os.path import isfile, join\n",
    "\n",
    "from string import punctuation\n",
    "\n",
    "from sklearn.feature_extraction.text import CountVectorizer,TfidfVectorizer\n",
    "from sklearn.decomposition import LatentDirichletAllocation\n",
    "from sklearn.model_selection import train_test_split\n",
    "from sklearn import linear_model,metrics\n",
    "from sklearn.dummy import DummyClassifier\n",
    "from sklearn.discriminant_analysis import LinearDiscriminantAnalysis\n",
    "from sklearn.discriminant_analysis import QuadraticDiscriminantAnalysis\n",
    "from sklearn.tree import DecisionTreeClassifier\n",
    "\n",
    "# Importing TSNE.\n",
    "from sklearn.manifold import TSNE\n",
    "from sklearn.datasets import load_digits\n",
    "from sklearn.preprocessing import scale\n",
    "from sklearn.metrics.pairwise import pairwise_distances\n",
    "from sklearn.manifold.t_sne import (_joint_probabilities,_kl_divergence)\n",
    "from sklearn.metrics import confusion_matrix\n",
    "from sklearn.utils.multiclass import unique_labels\n",
    "#from sklearn.utils.extmath import _ravel\n",
    "# Random state we define this random state to use this value in TSNE which is a randmized algo.\n",
    "RS = 25111993\n",
    "\n",
    "from nltk.corpus import stopwords\n",
    "from nltk.stem.snowball import SnowballStemmer\n",
    "from nltk.tokenize import TweetTokenizer\n",
    "\n",
    "from bs4 import BeautifulSoup\n",
    "\n",
    "from itertools import product\n",
    "\n",
    "# Importing for graphics and plots.\n",
    "import matplotlib.pyplot as plt\n",
    "import matplotlib.patheffects as PathEffects\n",
    "import matplotlib\n",
    "%matplotlib inline\n",
    "\n",
    "import seaborn as sns\n",
    "sns.set_style('darkgrid')\n",
    "sns.set_palette('muted')\n",
    "sns.set_context(\"notebook\", font_scale=1.5,\n",
    "rc={\"lines.linewidth\": 2.5})\n",
    "\n",
    "import bokeh.plotting as bp\n",
    "from bokeh.models import HoverTool\n",
    "from bokeh.plotting import save"
   ]
  },
  {
   "cell_type": "code",
   "execution_count": 3,
   "metadata": {},
   "outputs": [],
   "source": [
    "\n",
    "def display_topics(model, feature_names, no_top_words):\n",
    "    for topic_idx, topic in enumerate(model.components_):\n",
    "        print(\"Topic %d:\" % (topic_idx))\n",
    "        print(\" \".join([feature_names[i] for i in topic.argsort()[:-no_top_words - 1:-1]]))\n",
    "\n",
    "# ------------------------------------------------------------------------------------------------- #\n",
    "def distribuzione_frequenze(docs,y):\n",
    "    no_features = 10000\n",
    "    vectorizer = CountVectorizer(ngram_range=(1,3),max_df=0.9,min_df=6, max_features=no_features, lowercase=False, binary=True, encoding='utf-8')\n",
    "    tf = vectorizer.fit_transform(docs)\n",
    "    tdf = np.sum(tf.toarray(), axis=0)\n",
    "    df ={}\n",
    "    for i in tdf:\n",
    "        if i in df:\n",
    "            df[i] += 1\n",
    "        else:\n",
    "            df[i] = 1\n",
    "    freqs = []\n",
    "    for item in sorted(df.keys()):\n",
    "        freqs +=([item]*df[item])\n",
    "    dfdf = pd.DataFrame(freqs,columns=[\"df\"])\n",
    "    plt.figure(num=1,figsize=(18, 10))\n",
    "    sns.countplot(x=\"df\", data = dfdf)\n",
    "\n",
    "# ------------------------------------------------------------------------------------------------- #\n",
    "def train_model(classifier, train_features, train_cats, test_features, test_cats):\n",
    "    # fit the training dataset on the classifier\n",
    "    classifier.fit(train_features, train_cats)\n",
    "    \n",
    "    # predire le categorie sull'insieme di test\n",
    "    pred_cats = classifier.predict(test_features)\n",
    "\n",
    "    classi = unique_labels(test_cats, pred_cats)\n",
    "    #plt.title(\"Matrice di confusione\")\n",
    "    cm = confusion_matrix(test_cats, pred_cats)\n",
    "    # se vogliamo normallizare la matrice, dividendo per riga\n",
    "    #cm = cm.astype('float') / cm.sum(axis=1)[:, np.newaxis]\n",
    "    #print(\"Normalized confusion matrix\")\n",
    "    #print(cm)\n",
    "    #da notare poi bisognerebbe cambiare il \"formato\" dei numeri che appaiono in float\n",
    "    \n",
    "    plt.imshow(cm, interpolation='nearest', cmap=plt.cm.Blues)\n",
    "    plt.colorbar(fraction=0.04, pad=0.1)#spazi occupati dalla barra a destra\n",
    "    #labels\n",
    "    \n",
    "    tick_marks = range(len(classi))\n",
    "    plt.xticks(tick_marks, classi, rotation=90)\n",
    "    plt.yticks(tick_marks, classi)\n",
    "    \n",
    "    plt.grid(None)\n",
    "    \n",
    "    thresh = cm.max() / 2\n",
    "    #colore dei numeri dentro i quadrati\n",
    "    for i, j in product(range(cm.shape[0]), range(cm.shape[1])):\n",
    "        plt.text(j, i, format(cm[i, j], 'd'), horizontalalignment=\"center\", color=\"white\" if cm[i, j] > thresh else \"black\")\n",
    "    plt.ylabel(\"Classe osservata\")\n",
    "    plt.xlabel(\"Classe prevista\")\n",
    "    \n",
    "    return metrics.accuracy_score(pred_cats, test_cats)\n",
    "\n",
    "# ------------------------------------------------------------------------------------------------- #    \n",
    "# An user defined function to create scatter plot of vectors\n",
    "def scatter(x, colors):\n",
    "    # We choose a color palette with seaborn.\n",
    "    palette = np.array(sns.color_palette(\"hls\", 8))\n",
    "\n",
    "    # We create a scatter plot.\n",
    "    f = plt.figure(figsize=(32, 32))\n",
    "    ax = plt.subplot(aspect='equal')\n",
    "    sc = ax.scatter(x[:,0], x[:,1], lw=0, s=120,\n",
    "                    c=palette[colors.astype(np.int)])\n",
    "    #plt.xlim(-25, 25)\n",
    "    #plt.ylim(-25, 25)\n",
    "    ax.axis('off')\n",
    "    ax.axis('tight')\n",
    "\n",
    "    # We add the labels for each cluster.\n",
    "    txts = []\n",
    "    for i in range(18):\n",
    "        # Position of each label.\n",
    "        xtext, ytext = np.median(x[colors == i, :], axis=0)\n",
    "        txt = ax.text(xtext, ytext, str(i), fontsize=50)\n",
    "        txt.set_path_effects([\n",
    "            PathEffects.Stroke(linewidth=5, foreground=\"w\"),\n",
    "            PathEffects.Normal()])\n",
    "        txts.append(txt)\n",
    "\n",
    "    return f, ax, sc, txts\n"
   ]
  },
  {
   "cell_type": "code",
   "execution_count": 4,
   "metadata": {},
   "outputs": [
    {
     "name": "stderr",
     "output_type": "stream",
     "text": [
      "[nltk_data] Downloading package stopwords to\n",
      "[nltk_data]     C:\\Users\\Cristy\\AppData\\Roaming\\nltk_data...\n",
      "[nltk_data]   Package stopwords is already up-to-date!\n",
      "100%|██████████| 799/799 [00:10<00:00, 76.21it/s] \n"
     ]
    }
   ],
   "source": [
    "economia = get_news(\"./articoli_economia/\")\n",
    "cultura = get_news(\"./articoli_cultura/\")\n",
    "tech = get_news(\"./articoli_tech/\")\n",
    "politica = get_news(\"./articoli_politica/\")\n",
    "for articolo in economia:\n",
    "    articolo['categoria'] = \"Economia\"\n",
    "for articolo in cultura:\n",
    "    articolo['categoria'] = \"Cultura\"\n",
    "for articolo in tech:\n",
    "    articolo['categoria'] = \"Tech\"\n",
    "for articolo in politica:\n",
    "    articolo['categoria'] = \"Politica\"\n",
    "dati_preprocessati =  preproc(tech + politica + cultura + economia)"
   ]
  },
  {
   "cell_type": "code",
   "execution_count": 5,
   "metadata": {},
   "outputs": [],
   "source": [
    "seed = 2\n",
    "train_documents,test_documents = train_test_split(dati_preprocessati,random_state=seed)"
   ]
  },
  {
   "cell_type": "code",
   "execution_count": 6,
   "metadata": {},
   "outputs": [
    {
     "data": {
      "image/png": "[encoded data removed]",
      "text/plain": [
       "<Figure size 1296x720 with 1 Axes>"
      ]
     },
     "metadata": {
      "needs_background": "light"
     },
     "output_type": "display_data"
    }
   ],
   "source": [
    "#####Costruisci la term document matrix e poi cerca\n",
    "docs_texts = [' '.join([word for word in x['testo']] + x['tags'] + x['sottotitolo'] + x['titolo_articolo']) for x in dati_preprocessati]\n",
    "train_texts = [' '.join([word for word in x['testo']] + x['sottotitolo'] + x['titolo_articolo']) for x in train_documents]\n",
    "test_texts = [' '.join([word for word in x['testo']] + x['sottotitolo'] + x['titolo_articolo']) for x in test_documents]\n",
    "\n",
    "docs_cats = [x[\"categoria\"] for x in dati_preprocessati]\n",
    "train_cats = [x[\"categoria\"] for x in train_documents]\n",
    "test_cats = [x[\"categoria\"] for x in test_documents]\n",
    "\n",
    "distribuzione_frequenze(train_texts,\"train\")\n",
    "distribuzione_frequenze(test_texts,\"test\")"
   ]
  },
  {
   "cell_type": "code",
   "execution_count": 36,
   "metadata": {},
   "outputs": [],
   "source": [
    "from sklearn.pipeline import Pipeline\n",
    "#clsfr = linear_model.LogisticRegression(random_state=0,solver='lbfgs',multi_class='multinomial')\n",
    "clsfr = DecisionTreeClassifier()\n",
    "ldac = Pipeline([\n",
    "    (\"count_mx\",CountVectorizer(ngram_range=(1,6), min_df=8,max_df=0.9,encoding='utf-8',max_features=100000, lowercase=True)),\n",
    "    (\"lda\", LatentDirichletAllocation(n_components=16,max_iter=50, learning_method='online',random_state=0)), \n",
    "    (\"classifier\",clsfr)\n",
    "])\n"
   ]
  },
  {
   "cell_type": "code",
   "execution_count": 37,
   "metadata": {},
   "outputs": [
    {
     "data": {
      "text/plain": [
       "Pipeline(memory=None,\n",
       "     steps=[('count_mx', CountVectorizer(analyzer='word', binary=False, decode_error='strict',\n",
       "        dtype=<class 'numpy.int64'>, encoding='utf-8', input='content',\n",
       "        lowercase=True, max_df=0.9, max_features=100000, min_df=8,\n",
       "        ngram_range=(1, 6), preprocessor=None, stop_words=None,\n",
       "       ...      min_weight_fraction_leaf=0.0, presort=False, random_state=None,\n",
       "            splitter='best'))])"
      ]
     },
     "execution_count": 37,
     "metadata": {},
     "output_type": "execute_result"
    }
   ],
   "source": [
    "ldac.fit(train_texts,train_cats)"
   ]
  },
  {
   "cell_type": "code",
   "execution_count": 38,
   "metadata": {},
   "outputs": [
    {
     "name": "stdout",
     "output_type": "stream",
     "text": [
      "0.945\n"
     ]
    },
    {
     "data": {
      "image/png": "[encoded data removed]",
      "text/plain": [
       "<Figure size 432x288 with 2 Axes>"
      ]
     },
     "metadata": {
      "needs_background": "light"
     },
     "output_type": "display_data"
    }
   ],
   "source": [
    "pred_cats = ldac.predict(test_texts)\n",
    "\n",
    "classi = unique_labels(test_cats, pred_cats)\n",
    "plt.title(\"Matrice di confusione\")\n",
    "cm = confusion_matrix(test_cats, pred_cats)\n",
    "    \n",
    "plt.imshow(cm, interpolation='nearest', cmap=plt.cm.Blues)\n",
    "plt.colorbar(fraction=0.04, pad=0.1)#spazi occupati dalla barra a destra\n",
    "\n",
    "#labels \n",
    "tick_marks = range(len(classi))\n",
    "plt.xticks(tick_marks, classi, rotation=90)\n",
    "plt.yticks(tick_marks, classi)\n",
    "    \n",
    "plt.grid(None)\n",
    "  \n",
    "thresh = cm.max() / 2\n",
    "#colore dei numeri dentro i quadrati\n",
    "for i, j in product(range(cm.shape[0]), range(cm.shape[1])):\n",
    "    plt.text(j, i, format(cm[i, j], 'd'), horizontalalignment=\"center\", color=\"white\" if cm[i, j] > thresh else \"black\")\n",
    "    \n",
    "plt.ylabel(\"Classe osservata\")\n",
    "plt.xlabel(\"Classe prevista\")\n",
    "print(metrics.accuracy_score(pred_cats, test_cats)) \n"
   ]
  },
  {
   "cell_type": "code",
   "execution_count": 28,
   "metadata": {},
   "outputs": [
    {
     "name": "stdout",
     "output_type": "stream",
     "text": [
      "[0.94, 0.955, 0.92, 0.92, 0.89, 0.94, 0.89, 0.9, 0.9, 0.94, 0.95, 0.895, 0.93]\n",
      "range(2, 15)\n"
     ]
    }
   ],
   "source": [
    "from sklearn.pipeline import Pipeline\n",
    "#clsfr = linear_model.LogisticRegression(random_state=0,solver='lbfgs',multi_class='multinomial')\n",
    "clsfr = DecisionTreeClassifier()\n",
    "ngrammi = range(2,15)\n",
    "accuratezze = []\n",
    "for x in ngrammi:\n",
    "    ldac = Pipeline([\n",
    "        (\"count_mx\",CountVectorizer(ngram_range=(1,x), min_df=6,max_df=0.9,encoding='utf-8',max_features=100000, lowercase=True)),\n",
    "        (\"lda\", LatentDirichletAllocation(n_components=16,max_iter=50, learning_method='online',random_state=0)), \n",
    "        (\"classifier\",clsfr)\n",
    "    ])\n",
    "    ldac.fit(train_texts,train_cats)\n",
    "    pred_cats = ldac.predict(test_texts)\n",
    "\n",
    "    accuratezze.append(metrics.accuracy_score(pred_cats, test_cats)) \n",
    "\n",
    "print(accuratezze)\n",
    "print(ngrammi)"
   ]
  },
  {
   "cell_type": "code",
   "execution_count": 29,
   "metadata": {},
   "outputs": [
    {
     "name": "stdout",
     "output_type": "stream",
     "text": [
      "[0.735, 0.72, 0.705, 0.75, 0.725, 0.72, 0.735, 0.765, 0.685, 0.73, 0.735, 0.65, 0.635]\n",
      "range(2, 15)\n"
     ]
    }
   ],
   "source": [
    "from sklearn.pipeline import Pipeline\n",
    "clsfr = linear_model.LogisticRegression(random_state=0,solver='lbfgs',multi_class='multinomial')\n",
    "clsfr = DecisionTreeClassifier()\n",
    "ngrammi = range(2,15)\n",
    "accuratezze = []\n",
    "for x in ngrammi:\n",
    "    ldac = Pipeline([\n",
    "        (\"count_mx\",CountVectorizer(ngram_range=(1,x), min_df=6,max_df=0.9,encoding='utf-8',max_features=100000, lowercase=True)),\n",
    "        (\"lda\", LatentDirichletAllocation(n_components=16,max_iter=50, learning_method='online',random_state=0)), \n",
    "        (\"classifier\",clsfr)\n",
    "    ])\n",
    "    ldac.fit(train_texts,train_cats)\n",
    "    pred_cats = ldac.predict(test_texts)\n",
    "\n",
    "    accuratezze.append(metrics.accuracy_score(pred_cats, test_cats)) \n",
    "\n",
    "print(accuratezze)\n",
    "print(ngrammi)"
   ]
  },
  {
   "cell_type": "code",
   "execution_count": 30,
   "metadata": {},
   "outputs": [
    {
     "name": "stdout",
     "output_type": "stream",
     "text": [
      "[0.885, 0.785, 0.91, 0.92, 0.94, 0.94, 0.95, 0.925]\n",
      "range(2, 15)\n"
     ]
    }
   ],
   "source": [
    "#ottimizzo in base al min_df tenendo fisso ngram a 3\n",
    "from sklearn.pipeline import Pipeline\n",
    "clsfr = linear_model.LogisticRegression(random_state=0,solver='lbfgs',multi_class='multinomial')\n",
    "clsfr = DecisionTreeClassifier()\n",
    "min_df = range(2,10)\n",
    "accuratezze = []\n",
    "for df_m in min_df:\n",
    "    ldac = Pipeline([\n",
    "        (\"count_mx\",CountVectorizer(ngram_range=(1,3), min_df=df_m,max_df=0.9,encoding='utf-8',max_features=100000, lowercase=True)),\n",
    "        (\"lda\", LatentDirichletAllocation(n_components=16,max_iter=50, learning_method='online',random_state=0)), \n",
    "        (\"classifier\",clsfr)\n",
    "    ])\n",
    "    ldac.fit(train_texts,train_cats)\n",
    "    pred_cats = ldac.predict(test_texts)\n",
    "\n",
    "    accuratezze.append(metrics.accuracy_score(pred_cats, test_cats)) \n",
    "\n",
    "print(accuratezze)\n",
    "print(ngrammi)"
   ]
  },
  {
   "cell_type": "code",
   "execution_count": 61,
   "metadata": {},
   "outputs": [
    {
     "name": "stdout",
     "output_type": "stream",
     "text": [
      "0\n",
      "0.86\n",
      "1\n",
      "0.87\n",
      "2\n",
      "0.885\n",
      "3\n",
      "0.785\n",
      "4\n",
      "0.905\n",
      "5\n",
      "0.92\n",
      "6\n",
      "0.925\n",
      "7\n",
      "0.94\n",
      "8\n",
      "0.95\n",
      "9\n",
      "0.9\n"
     ]
    }
   ],
   "source": [
    "#finale\n",
    "from sklearn.pipeline import Pipeline\n",
    "clsfr = linear_model.LogisticRegression(random_state=0,solver='lbfgs',multi_class='multinomial')\n",
    "clsfr = DecisionTreeClassifier()\n",
    "accuratezze = []\n",
    "dfs = range(0,10,1)\n",
    "for df in dfs:\n",
    "    ldac = Pipeline([\n",
    "            (\"count_mx\",CountVectorizer(ngram_range=(1,3), min_df=df,max_df=0.9,encoding='utf-8',max_features=100000, lowercase=True)),\n",
    "            (\"lda\", LatentDirichletAllocation(n_components=16,max_iter=50, learning_method='online',random_state=0)), \n",
    "            (\"classifier\",clsfr)\n",
    "        ])\n",
    "    ldac.fit(train_texts,train_cats)\n",
    "    pred_cats = ldac.predict(test_texts)\n",
    "    print(df)\n",
    "    print(metrics.accuracy_score(pred_cats, test_cats)) \n"
   ]
  }
 ],
 "metadata": {
  "kernelspec": {
   "display_name": "Python 3",
   "language": "python",
   "name": "python3"
  },
  "language_info": {
   "codemirror_mode": {
    "name": "ipython",
    "version": 3
   },
   "file_extension": ".py",
   "mimetype": "text/x-python",
   "name": "python",
   "nbconvert_exporter": "python",
   "pygments_lexer": "ipython3",
   "version": "3.7.3"
  }
 },
 "nbformat": 4,
 "nbformat_minor": 2
}
